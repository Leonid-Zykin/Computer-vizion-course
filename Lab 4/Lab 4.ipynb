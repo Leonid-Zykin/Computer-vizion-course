{
 "cells": [
  {
   "cell_type": "markdown",
   "metadata": {},
   "source": [
    "# Лабораторная работа №4\n",
    "## Сегментация изображений\n",
    "Выполнили: \n",
    "\n",
    "Гуров Михаил Алексеевич 408510 R3243  \n",
    "Зыкин Леонид Витальевич 470912 R3335  \n",
    "Куликов Илья Вячеславович 470122 R3243\n"
   ]
  },
  {
   "cell_type": "markdown",
   "metadata": {},
   "source": [
    "### Цель работы:\n",
    "Освоение основных способов сегментации изображений на семантические области."
   ]
  },
  {
   "cell_type": "code",
   "execution_count": null,
   "metadata": {},
   "outputs": [
    {
     "ename": "AttributeError",
     "evalue": "module 'cv2' has no attribute 'var'",
     "output_type": "error",
     "traceback": [
      "\u001b[1;31m---------------------------------------------------------------------------\u001b[0m",
      "\u001b[1;31mAttributeError\u001b[0m                            Traceback (most recent call last)",
      "Cell \u001b[1;32mIn[9], line 46\u001b[0m\n\u001b[0;32m     44\u001b[0m texture_image \u001b[38;5;241m=\u001b[39m cv2\u001b[38;5;241m.\u001b[39mimread(texture_image_path, cv2\u001b[38;5;241m.\u001b[39mIMREAD_GRAYSCALE)\n\u001b[0;32m     45\u001b[0m texture_glcm \u001b[38;5;241m=\u001b[39m cv2\u001b[38;5;241m.\u001b[39mLaplacian(texture_image, cv2\u001b[38;5;241m.\u001b[39mCV_64F)\n\u001b[1;32m---> 46\u001b[0m texture_var \u001b[38;5;241m=\u001b[39m \u001b[43mcv2\u001b[49m\u001b[38;5;241;43m.\u001b[39;49m\u001b[43mvar\u001b[49m(texture_glcm)\n\u001b[0;32m     48\u001b[0m \u001b[38;5;66;03m# Визуализация результатов\u001b[39;00m\n\u001b[0;32m     49\u001b[0m fig, axs \u001b[38;5;241m=\u001b[39m plt\u001b[38;5;241m.\u001b[39msubplots(\u001b[38;5;241m3\u001b[39m, \u001b[38;5;241m2\u001b[39m, figsize\u001b[38;5;241m=\u001b[39m(\u001b[38;5;241m12\u001b[39m, \u001b[38;5;241m15\u001b[39m))\n",
      "\u001b[1;31mAttributeError\u001b[0m: module 'cv2' has no attribute 'var'"
     ]
    }
   ],
   "source": [
    "import cv2\n",
    "import numpy as np\n",
    "import matplotlib.pyplot as plt\n",
    "from sklearn.cluster import KMeans\n",
    "\n",
    "# Загрузка изображения\n",
    "image_path = 'image.jpg'  # Укажите путь к вашему изображению\n",
    "image = cv2.imread(image_path, cv2.IMREAD_COLOR)\n",
    "gray = cv2.cvtColor(image, cv2.COLOR_BGR2GRAY)\n",
    "\n",
    "# Простая бинаризация\n",
    "threshold = 127\n",
    "_, binary = cv2.threshold(gray, threshold, 255, cv2.THRESH_BINARY)\n",
    "\n",
    "# Двойная пороговая бинаризация\n",
    "t1, t2 = 110, 200\n",
    "_, binary_low = cv2.threshold(gray, t1, 255, cv2.THRESH_BINARY)\n",
    "_, binary_high = cv2.threshold(gray, t2, 255, cv2.THRESH_TOZERO_INV)\n",
    "double_threshold = cv2.bitwise_and(binary_low, binary_high)\n",
    "\n",
    "# Метод Оцу\n",
    "t_otsu, binary_otsu = cv2.threshold(gray, 0, 255, cv2.THRESH_BINARY + cv2.THRESH_OTSU) ##############\n",
    "\n",
    "# Сегментация 1: Цвет кожи\n",
    "face_image_path = 'face.jpg'  # Укажите путь к изображению с лицом\n",
    "face_image = cv2.imread(face_image_path, cv2.IMREAD_COLOR)\n",
    "face_image_hsv = cv2.cvtColor(face_image, cv2.COLOR_BGR2HSV)\n",
    "\n",
    "lower_skin = np.array([0, 48, 80], dtype=np.uint8)\n",
    "upper_skin = np.array([20, 255, 255], dtype=np.uint8)\n",
    "skin_mask = cv2.inRange(face_image_hsv, lower_skin, upper_skin)\n",
    "skin_segmented = cv2.bitwise_and(face_image, face_image, mask=skin_mask)\n",
    "\n",
    "# Сегментация 2: k-средних в пространстве CIE Lab\n",
    "objects_image_path = 'objects.jpg'  # Укажите путь к изображению с цветными объектами\n",
    "objects_image = cv2.imread(objects_image_path, cv2.IMREAD_COLOR)\n",
    "lab_image = cv2.cvtColor(objects_image, cv2.COLOR_BGR2Lab)\n",
    "pixels = lab_image.reshape((-1, 3))\n",
    "\n",
    "kmeans = KMeans(n_clusters=3, random_state=42)\n",
    "kmeans.fit(pixels)\n",
    "segmented_image = kmeans.labels_.reshape(objects_image.shape[:2])\n",
    "\n",
    "# Сегментация 3: Текстурная сегментация (энергия, контраст, энтропия)\n",
    "texture_image_path = 'texture.jpg'  # Укажите путь к изображению с текстурами\n",
    "texture_image = cv2.imread(texture_image_path, cv2.IMREAD_GRAYSCALE)\n",
    "kernel = np.ones((5,5),np.uint8)\n",
    "energy = cv2.filter2D(texture_image, -1, kernel)\n",
    "contrast = cv2.Laplacian(texture_image, cv2.CV_64F)\n",
    "entropy = -texture_image * np.log2(texture_image + 1e-9)\n",
    "\n",
    "# Визуализация\n",
    "fig, axs = plt.subplots(3, 3, figsize=(15, 15))\n",
    "axs[0, 0].imshow(cv2.cvtColor(image, cv2.COLOR_BGR2RGB))\n",
    "axs[0, 0].set_title('Оригинальное изображение')\n",
    "axs[0, 0].axis('off')\n",
    "\n",
    "axs[0, 1].imshow(binary, cmap='gray')\n",
    "axs[0, 1].set_title('Простая бинаризация')\n",
    "axs[0, 1].axis('off')\n",
    "\n",
    "axs[0, 2].imshow(binary_otsu, cmap='gray')\n",
    "axs[0, 2].set_title(f'Метод Оцу (порог: {t_otsu:.2f})')\n",
    "axs[0, 2].axis('off')\n",
    "\n",
    "axs[1, 0].imshow(cv2.cvtColor(skin_segmented, cv2.COLOR_BGR2RGB))\n",
    "axs[1, 0].set_title('Сегментация лица по цвету кожи')\n",
    "axs[1, 0].axis('off')\n",
    "\n",
    "axs[1, 1].imshow(segmented_image, cmap='viridis')\n",
    "axs[1, 1].set_title('Сегментация цветных объектов (k-средних)')\n",
    "axs[1, 1].axis('off')\n",
    "\n",
    "axs[1, 2].imshow(energy, cmap='gray')\n",
    "axs[1, 2].set_title('Текстурная сегментация (энергия)')\n",
    "axs[1, 2].axis('off')\n",
    "\n",
    "axs[2, 0].imshow(contrast, cmap='gray')\n",
    "axs[2, 0].set_title('Текстурная сегментация (контраст)')\n",
    "axs[2, 0].axis('off')\n",
    "\n",
    "axs[2, 1].imshow(entropy, cmap='gray')\n",
    "axs[2, 1].set_title('Текстурная сегментация (энтропия)')\n",
    "axs[2, 1].axis('off')\n",
    "\n",
    "plt.show()\n"
   ]
  }
 ],
 "metadata": {
  "kernelspec": {
   "display_name": "Python 3",
   "language": "python",
   "name": "python3"
  },
  "language_info": {
   "codemirror_mode": {
    "name": "ipython",
    "version": 3
   },
   "file_extension": ".py",
   "mimetype": "text/x-python",
   "name": "python",
   "nbconvert_exporter": "python",
   "pygments_lexer": "ipython3",
   "version": "3.12.1"
  }
 },
 "nbformat": 4,
 "nbformat_minor": 2
}
