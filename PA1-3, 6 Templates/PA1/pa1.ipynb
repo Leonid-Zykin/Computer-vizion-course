{
 "cells": [
  {
   "cell_type": "markdown",
   "metadata": {},
   "source": [
    "# Authors\n",
    "\n",
    "*The work can be done in groups of up to 3 students. Please complete the following fields with your group number and list your names along with ISU ID numbers.*\n",
    "\n",
    "---\n",
    "> **Stream:** *[RZZZ] Technical Vision*\n",
    "> 1. Name, ISU id\n",
    "> 2. Name, ISU id\n",
    "> 3. Name, ISU id\n",
    "---\n",
    "\n",
    "The task and guidelines were prepared by Andrei Zhdanov And Sergei Shavetov from ITMO University in 2024."
   ]
  },
  {
   "cell_type": "markdown",
   "metadata": {},
   "source": [
    "# Practical Assignment No 1. Histograms, Profiles, Projections \n",
    "\n",
    "Digital images basic brightness and geometric characteristics studying and using it for image analysis."
   ]
  },
  {
   "cell_type": "markdown",
   "metadata": {},
   "source": [
    "## Introduction\n",
    "\n",
    "A digital image pixel is characterized by three parameters: $(x, y, I)$, where a pair of integer values $x, y$ describes the geometric position of the pixel in the image plane, and the $I$ value characterizes its brightness (intensity) at a point on the plane. Thus, the brightness and geometric components can be distinguished in the image.  In the general case, these components are not related to each other (for example, a change scene illumination will not change the geometric parameters of objects on the scene).  Because of this, it is easier to investigate the image brightness properties and the geometric ones separately. This approach reduces the studied image order in the case of geometric properties from  $n = 3$ $(x, y, I)$ to $n = 2$ $(x, y)$, and in the brightness properties case to $n=1$ $(I)$. The image brightness component is characterized by a one-dimensional histogram array, from which the contrast can be calculated.\n",
    "\n",
    "- **Histogram** is an occurrence frequency distribution of the same brightness pixels in the image.\n",
    "\n",
    "- **Brightness** is an average signal intensity.\n",
    "\n",
    "- **Contrast** is the values interval between the minimum and maximum image brightness.\n",
    "\n",
    "To reduce the image geometric components to a one-dimensional data array $n = 1$ are used such characteristics as images \"*profiles*\" and \"*projections*\".\n",
    "\n",
    "- **Profile** along the line is an intensity function of the image, distributed along this line.  \n",
    "\n",
    "- **Projection** on the axis is a sum pixels intensities of the image, taken in the direction perpendicular to this axis.\n"
   ]
  },
  {
   "cell_type": "markdown",
   "metadata": {},
   "source": [
    "## Task 1. Histograms\n",
    "\n",
    "*Select an arbitrary low-contrast image. Perform histogram alignment and contrast stretching, use the considered transformations and built-in OpenCV functions. Compare the results.*"
   ]
  },
  {
   "cell_type": "markdown",
   "metadata": {},
   "source": [
    "For an 8-bit grayscale image the histogram is a one-dimensional integer array $hist$ of 256 elements $[0 \\dots 255]$. The histogram element $hist[i]$  is the image pixels sum with the brightness $i$. Using the visual form of the histogram we can assess the need to change the image brightness and contrast, estimate the area occupied by light and dark elements, determine the location on the image plane of individual objects corresponding to brightness certain ranges. For a RGB color image it is need to create three histograms for each color.\n",
    "\n",
    "If the histogram is uneven for the image improving it can be equalized. Histogram equalization depending on the problem being solved can be performed in different ways."
   ]
  },
  {
   "cell_type": "markdown",
   "metadata": {},
   "source": [
    "At first, we will try calculating and displaying the histogram. To do it we have to:\n",
    "\n",
    "1. Read an image from file\n",
    "2. Process an image to calculate its histogram. If image consists of several color layers (e.g., *red*, *green* and *blue*) then we have to split it into layers first and then calculate histograms for each layer independently.\n",
    "3. Creare new image canvas and draw a histogram on it.\n",
    "4. Display the histogram. Also we may display an image aside.\n",
    "\n",
    "So, let's do it."
   ]
  },
  {
   "cell_type": "markdown",
   "metadata": {},
   "source": [
    "### 1.1 Preparation\n",
    "\n",
    "First, we need to add some imports for OpenCV to work correctly."
   ]
  },
  {
   "cell_type": "code",
   "execution_count": null,
   "metadata": {},
   "outputs": [],
   "source": [
    "import cv2 as cv\n",
    "import numpy as np\n",
    "import matplotlib.pyplot as plt\n",
    "import sys"
   ]
  },
  {
   "cell_type": "markdown",
   "metadata": {},
   "source": [
    "### 1.2 Read image\n",
    "\n",
    "Now let's open our image which we will use during the current task. We will open it both in GBR and in BW modes. We can do it by loading image directly in BRG or GRAYSCALE by setting the corresponding image read options, or convert BGR image to grayscale by calling `cvtColor(I, cv2.COLOR_BGR2GREY)` funtion. We will use both ways to see the difference. "
   ]
  },
  {
   "cell_type": "code",
   "execution_count": null,
   "metadata": {},
   "outputs": [],
   "source": [
    "# Read an image from file in BGR\n",
    "fn = \"images/lena_color.png\"\n",
    "I = cv.imread(fn, cv.IMREAD_COLOR)\n",
    "if not isinstance(I, np.ndarray) or I.data == None:\n",
    "  print(\"Error reading file \\\"{}\\\"\".format(fn))\n",
    "else:\n",
    "  # Convert loaded BGR image to grayscale\n",
    "  Igray = cv.cvtColor(I, cv.COLOR_BGR2GRAY)\n",
    "\n",
    "# Read an image from file in grayscale\n",
    "Igray_2 = cv.imread(fn, cv.IMREAD_GRAYSCALE)\n",
    "if not isinstance(Igray_2, np.ndarray) or Igray_2.data == None:\n",
    "  print(\"Error reading file \\\"{}\\\"\".format(fn))\n"
   ]
  },
  {
   "cell_type": "markdown",
   "metadata": {},
   "source": [
    "### 1.3 Display image\n",
    "\n",
    "As we currently use the Jupiter Notebook, we can't use OpenCV `imshow()` function, so we will use `matplotlib.pyplot.imshow`. Since OpenCV uses BGR and pyplot uses RGB, so we have to add color model conversion with `cvtColor(I, cv2.COLOR_BGR2RGB)` funtion. \n",
    "To display several images side-by-side we will use subplots function and set it two have two columns and one row of plots. Let's create a function which we will use to display one or several OpenCV images side-by-side. It will take an array of tuples with image and its name as an argument and number of images in a single row."
   ]
  },
  {
   "cell_type": "code",
   "execution_count": null,
   "metadata": {},
   "outputs": [],
   "source": [
    "# Show image\n",
    "# We can't run OpenCV imshow here as it will be displayed in separete window or simply crash our notebook\n",
    "# cv.imshow(\"BRG image\", I)\n",
    "# cv.imshow(\"Grayscale image\", Igray)\n",
    "# So let's use another way\n",
    "\n",
    "## Draw several images on a sigle plot side-by-side\n",
    "## @param[in] Is tuples of image names and images to draw\n",
    "## @param[in] ncols Number of culumns to use (0 to display them separately)\n",
    "## @param[in] hide_axes If hide axes for a better view\n",
    "def ShowImages(Is, ncols = 0, hide_axes = True):\n",
    "  if len(Is) == 0:\n",
    "    return\n",
    "  \n",
    "  # Show images one-by-one\n",
    "  if len(Is) == 1 or ncols == 0:\n",
    "    for I in Is:\n",
    "      if I == None:\n",
    "        continue\n",
    "\n",
    "      if I[1].ndim == 2:\n",
    "        axes = plt.imshow(I[1], cmap='gray')\n",
    "      else:\n",
    "        axes = plt.imshow(cv.cvtColor(I[1], cv.COLOR_BGR2RGB))\n",
    "      plt.title(I[0])\n",
    "\n",
    "      # If we don't need axes display, then let's hide it\n",
    "      if hide_axes:\n",
    "        axes.axes.get_xaxis().set_visible(False)\n",
    "        axes.axes.get_yaxis().set_visible(False)\n",
    "      \n",
    "      # And now show image\n",
    "      plt.show()\n",
    "    return\n",
    "\n",
    "  # Show images side-by-side\n",
    "  fig, axes = plt.subplots(nrows = (len(Is) + ncols - 1) // ncols, ncols = ncols)\n",
    "  axes = axes.flatten()\n",
    "  for i in range(len(Is)):\n",
    "    if Is[i] != None:\n",
    "      if Is[i][1].ndim == 2:\n",
    "        axes[i].imshow(Is[i][1], cmap='gray')\n",
    "      else:\n",
    "        axes[i].imshow(cv.cvtColor(Is[i][1], cv.COLOR_BGR2RGB))\n",
    "      axes[i].set_title(Is[i][0])\n",
    "\n",
    "    # If we don't need axes display, then let's hide it\n",
    "    if hide_axes:\n",
    "      axes[i].axes.get_xaxis().set_visible(False)\n",
    "      axes[i].axes.get_yaxis().set_visible(False)\n",
    "  \n",
    "  for i in range(len(Is), ncols * ((len(Is) + ncols - 1) // ncols)):\n",
    "    axes[i].set_visible(False)\n",
    "\n",
    "  # And now show image\n",
    "  plt.show()\n",
    "\n",
    "# Now we can use this function to display two images\n",
    "ShowImages([(\"BRG image\", I), \n",
    "            (\"BGR->Grayscale image\", Igray), \n",
    "            (\"Grayscale image\", Igray_2)], 0, True)"
   ]
  },
  {
   "cell_type": "markdown",
   "metadata": {},
   "source": [
    "### 1.4 Display image histogram\n",
    "\n",
    "Now we can display the images histograms in RGB and in BW. For first this we will add functions to draw histograms and graphs in OpenCL image."
   ]
  },
  {
   "cell_type": "code",
   "execution_count": null,
   "metadata": {},
   "outputs": [],
   "source": [
    "## Draw a histogram in a given image drawing context\n",
    "## @param[in, out] image image drawing context\n",
    "## @param[in] data_array data to draw\n",
    "## @param[in] color color to use when drawing\n",
    "## @param[in] max_val scale factor for the histogram values (default is 1)\n",
    "def DrawHist(image, data_array, color, max_val = 1.0):\n",
    "  image_w = image.shape[1]\n",
    "  image_h = image.shape[0]\n",
    "  data_size = data_array.shape[0]\n",
    "\n",
    "  step = image_w / data_size\n",
    "  x = 0\n",
    "  for i in range(0, data_size):\n",
    "    cv.rectangle(image, \n",
    "                 (int(x), image_h - 1 - int((image_h - 1) * data_array[i] / max_val)),\n",
    "                 (int(x + step) - 1, image_h - 1),\n",
    "                 color, thickness = -1)\n",
    "    x += step\n",
    "\n",
    "## Draw a plot in a given image drawing context\n",
    "## @param[in, out] image image drawing context\n",
    "## @param[in] data_array data to draw\n",
    "## @param[in] color color to use when drawing\n",
    "## @param[in] max_val scale factor for the histogram values (default is 1)\n",
    "def DrawGraph(image, data_array, color, max_val = 1.0):\n",
    "  image_w = image.shape[1]\n",
    "  image_h = image.shape[0]\n",
    "  data_size = data_array.shape[0]\n",
    "\n",
    "  step = image_w / data_size\n",
    "  x = step * 0.5\n",
    "  cv.line(image, \n",
    "          (0, image_h - 1 - int((image_h - 1) * data_array[0] / max_val)),\n",
    "          (int(x), image_h - 1 - int((image_h - 1) * data_array[0] / max_val)),\n",
    "          color, thickness = 1)\n",
    "\n",
    "  for i in range(1, data_size):\n",
    "    cv.line(image, \n",
    "            (int(x), image_h - 1 - int((image_h - 1) * data_array[i - 1] / max_val)),\n",
    "            (int(x + step), image_h - 1 - int((image_h - 1) * data_array[i] / max_val)),\n",
    "            color, thickness = 1)\n",
    "    x += step\n",
    "\n",
    "  cv.line(image, \n",
    "          (int(x), image_h - 1 - int((image_h - 1) * data_array[data_size - 1] / max_val)),\n",
    "          (image_w - 1, image_h - 1 - int((image_h - 1) * data_array[data_size - 1] / max_val)),\n",
    "          color, thickness = 1)"
   ]
  },
  {
   "cell_type": "markdown",
   "metadata": {},
   "source": [
    "Now we can use `cv.calcHist()` function to calculate image histogram, then display it using our `DrawHist()` for BW image and `DrawGraph()` for BRG one. Then we can use `ShowImages()` functions to show results."
   ]
  },
  {
   "cell_type": "code",
   "execution_count": null,
   "metadata": {},
   "outputs": [],
   "source": [
    "## Create an image with histogrm\n",
    "## @param[in] I An image to work with\n",
    "## @return An image with histogram\n",
    "def SimpleHistogram(I):\n",
    "  if I.ndim == 2:\n",
    "    # If we have a grayscale image we have single histogram\n",
    "    # Calculate histogram\n",
    "    hist = cv.calcHist([I], [0], None, [256], [0, 256])[:, 0]\n",
    "    # Alternatively we can use numpy histogram function to do same\n",
    "    # (hist, tmp) = np.histogram(img.ravel(), 256, [0, 256])\n",
    "\n",
    "    # Now we need to allocate an image and draw on it with DrawHist function\n",
    "    hist_img = np.full((256, 512, 3), 255, dtype = np.uint8)\n",
    "    DrawHist(hist_img, hist, (127, 127, 127), hist.max())\n",
    "  else:\n",
    "    # Split an image into layers and work with them separately\n",
    "    bgr_planes = cv.split(I)\n",
    "\n",
    "    # Calculate histogram\n",
    "    hist_b = cv.calcHist(bgr_planes, [0], None, [256], [0, 256])[:, 0]\n",
    "    hist_g = cv.calcHist(bgr_planes, [1], None, [256], [0, 256])[:, 0]\n",
    "    hist_r = cv.calcHist(bgr_planes, [2], None, [256], [0, 256])[:, 0]\n",
    "\n",
    "    # Draw histogram\n",
    "    hist_img = np.full((256, 512, 3), 255, dtype = np.uint8)\n",
    "    hist_scale = np.max([hist_b.max(), hist_g.max(), hist_r.max()])\n",
    "    DrawGraph(hist_img, hist_b, (255, 0, 0), hist_scale)\n",
    "    DrawGraph(hist_img, hist_g, (0, 255, 0), hist_scale)\n",
    "    DrawGraph(hist_img, hist_r, (0, 0, 255), hist_scale)\n",
    "\n",
    "  return hist_img\n",
    "\n",
    "# Now let's show histograms\n",
    "ShowImages([(\"Histogram BGR\", SimpleHistogram(I)), \n",
    "            (\"Histogram BGR->grayscale\", SimpleHistogram(Igray)), \n",
    "            (\"Histogram grayscale\", SimpleHistogram(Igray_2))])"
   ]
  },
  {
   "cell_type": "markdown",
   "metadata": {},
   "source": [
    "From now on we will work with grayscale images as our task is to work with image intensities.\n",
    "\n",
    "Now let's add the cummulative histogram calculation. To calculate it we will use numpy `cumsum()` function."
   ]
  },
  {
   "cell_type": "code",
   "execution_count": null,
   "metadata": {},
   "outputs": [],
   "source": [
    "## Create an image with histogrm and cummulative histogram\n",
    "## @param[in] I An image to work with\n",
    "## @return An image with histogram\n",
    "def Histogram(I):\n",
    "  # Only grayscale images are considered\n",
    "  if I.ndim != 2:\n",
    "    return None\n",
    "  \n",
    "  # Calculate histogram\n",
    "  hist = cv.calcHist([I], [0], None, [256], [0, 256])[:, 0]\n",
    "\n",
    "  # Calculate cumulative histogram\n",
    "  cum_hist = np.cumsum(hist) / I.shape[0] / I.shape[1]\n",
    "\n",
    "  # Now we need to allocate an image and draw on it with DrawHist function\n",
    "  hist_img = np.full((256, 512, 3), 255, dtype = np.uint8)\n",
    "  DrawHist(hist_img, hist, (127, 127, 127), hist.max())\n",
    "  DrawGraph(hist_img, cum_hist, (0, 0, 0), 1)\n",
    "\n",
    "  return hist_img\n",
    "\n",
    "# Now let's show histograms\n",
    "ShowImages([(\"Histogram\", Histogram(Igray))])"
   ]
  },
  {
   "cell_type": "markdown",
   "metadata": {},
   "source": [
    "---\n",
    "> ***Self-work***\n",
    ">\n",
    "> Take some arbitrary image and display its histogram both in RGB and in grayscale color models.\n",
    "---"
   ]
  },
  {
   "cell_type": "code",
   "execution_count": null,
   "metadata": {},
   "outputs": [],
   "source": [
    "# TODO Place your solution here\n"
   ]
  },
  {
   "cell_type": "markdown",
   "metadata": {},
   "source": [
    "### 1.5 Histogram transformations\n",
    "Now we are ready to try different histogram transformations."
   ]
  },
  {
   "cell_type": "markdown",
   "metadata": {},
   "source": [
    "#### 1.5.1 Shift\n",
    "\n",
    "The simplest ways for histogram equalization are $\\textit{arithmetic operations}$ on images. For example, if most of the histogram values are on the left, then the image is dark. To increase the detail in dark areas, it is need to shift the histogram to the right lighter area, for example, by 50 gradations for each color.\n",
    "\n",
    "So, let's try shifting histogram by 50 to the right. Just add 50 to the image:\n",
    "\n",
    "$$I_{shift} = I + 50$$"
   ]
  },
  {
   "cell_type": "code",
   "execution_count": null,
   "metadata": {},
   "outputs": [],
   "source": [
    "## Shift image histogram by n\n",
    "## @param[in] I An image to work with\n",
    "## @param[in] n A value to shift with\n",
    "## @return An image after shift\n",
    "def Shift(I, n):\n",
    "  return I + n\n",
    "\n",
    "# Apply it\n",
    "Ishift = Shift(Igray, 50)\n",
    "ShowImages([(\"Source image\", Igray), (\"Shift by 50\", Ishift)])\n",
    "\n",
    "# Let's also show histograms before and after to compare\n",
    "ShowImages([(\"Histogram before\", Histogram(Igray)), \n",
    "            (\"Histogram after Shift\", Histogram(Ishift))], 0)"
   ]
  },
  {
   "cell_type": "markdown",
   "metadata": {},
   "source": [
    "We got quite strange result. The reason is that we forgot about clipping image colors during transformation and get `uint8` color overflow. We should correct it by adding working in `int32` and adding clip before converting back to `uint8`.\n",
    "\n",
    "$$I_{shift}[x](val) = \\begin{cases}\n",
    "   0          &\\text{if } I[x] + val < 0 \\\\\n",
    "   I[x] + val &\\text{if } 0 <= I[x] + val <= 255 \\\\\n",
    "   255        &\\text{if } I[x] + val > 255\n",
    "\\end{cases}$$"
   ]
  },
  {
   "cell_type": "code",
   "execution_count": null,
   "metadata": {},
   "outputs": [],
   "source": [
    "## Shift image histogram by n and clip to [0, 255] range\n",
    "## @param[in] I An image to work with\n",
    "## @param[in] n A value to shift with\n",
    "## @return An image after shift and clip\n",
    "def ShiftAndClip(I, n):\n",
    "  return (I.astype(np.int32) + 50).clip(0, 255).astype(np.uint8)\n",
    "\n",
    "# Nnow we can apply it\n",
    "Ishiftclip = ShiftAndClip(Igray, 50)\n",
    "ShowImages([(\"Shift by 50 and clip\", Ishiftclip)])\n",
    "\n",
    "# Let's also show histograms before and after to compare\n",
    "ShowImages([(\"Histogram before\", Histogram(Igray)), \n",
    "            (\"Histogram after Shift\", Histogram(Ishift)), \n",
    "            (\"Histogram after Shift and Clip\", Histogram(Ishiftclip))], 0)"
   ]
  },
  {
   "cell_type": "markdown",
   "metadata": {},
   "source": [
    "Now let's try applying some more histogram transformations.\n",
    "We will apply histogram transformations with lookup tables and OpenCV `LUT()` function. So our goal is to fill the lookup table for each transformation."
   ]
  },
  {
   "cell_type": "markdown",
   "metadata": {},
   "source": [
    "#### 1.5.1.2 Linear transformation\n",
    "\n",
    "First we will try do linear transformation and apply it as a LUT. We already know about clipping, so we will use it here as well. Our lookup table will have a form of\n",
    "\n",
    "$$LUT(x) = a \\cdot x + b$$"
   ]
  },
  {
   "cell_type": "code",
   "execution_count": null,
   "metadata": {},
   "outputs": [],
   "source": [
    "## Create a lookup table for the linear transformation with a * x + b formula\n",
    "## @param[in] a First parameter\n",
    "## @param[in] b Second parameter\n",
    "## @return The lookup table for the linear tansformation\n",
    "def Linear(a = 1, b = 0):\n",
    "  # Fill lut with values from 0 to 255  \n",
    "  lut = np.arange(256, dtype = np.int32)\n",
    "  # Apply formula\n",
    "  lut = lut * a + b\n",
    "  # Clip and convert to uint8\n",
    "  return lut.clip(0, 255).astype(np.uint8)\n",
    "\n",
    "# Now we can apply it\n",
    "Ilinear = cv.LUT(Igray, Linear(1, 0))\n",
    "ShowImages([(\"Source image\", Igray), \n",
    "            (\"Linear transformation\", Ilinear)])\n",
    "\n",
    "# Let's also show histograms before and after to compare\n",
    "ShowImages([(\"Histogram before\", Histogram(Igray)), \n",
    "            (\"Histogram after Linear transformation\", Histogram(Ilinear))], 0)"
   ]
  },
  {
   "cell_type": "markdown",
   "metadata": {},
   "source": [
    "#### 1.5.1.3 Linear equalization\n",
    "\n",
    "Now let's do the linear equalization. For this transformation we need to calculate the cummulative histogram and use it as a LUT, so the source image will be a parameter for the our `LinearEuqalization` function. So\n",
    "\n",
    "$$LUT(x) = P(x) \\cdot 255$$\n",
    "\n",
    "where $P(x)$ is the cummulative histogram of an image."
   ]
  },
  {
   "cell_type": "code",
   "execution_count": null,
   "metadata": {},
   "outputs": [],
   "source": [
    "## Create a lookup table for the linear equalization for a given image\n",
    "## @param[in] I Image to work with\n",
    "## @return The lookup table for the linear equalization\n",
    "def LinearEqualization(I):\n",
    "  # Calculate the cummulative histogram\n",
    "  hist = cv.calcHist([Igray], [0], None, [256], [0, 256])[:, 0]\n",
    "  P = cum_hist = np.cumsum(hist) / Igray.shape[0] / Igray.shape[1]\n",
    "\n",
    "  # Fill lut scaled cummulative histogram values\n",
    "  lut = 255 * P\n",
    "  # Clip and convert to uint8\n",
    "  return lut.clip(0, 255).astype(np.uint8)\n",
    "\n",
    "# Now we can apply it\n",
    "Ilineareq = cv.LUT(Igray, LinearEqualization(I))\n",
    "ShowImages([(\"Source image\", Igray), \n",
    "            (\"Linear equalzation\", Ilineareq)])\n",
    "\n",
    "# Let's also show histograms before and after to compare\n",
    "ShowImages([(\"Histogram before\", Histogram(Igray)), \n",
    "            (\"Histogram after Linear equalization\", Histogram(Ilineareq))], 0)"
   ]
  },
  {
   "cell_type": "markdown",
   "metadata": {},
   "source": [
    "#### 1.5.2 Nonlinear dynamic range stretching\n",
    "\n",
    "In this case we will stretch the narrow range to a whole range using formula\n",
    "\n",
    "$$lut_{[0,1]}(x) = \\left( \\dfrac{x - I_{min}}{I_{max} - I_{min}} \\right) ^ \\alpha$$\n",
    "\n",
    "where $\\alpha$ is a parameter of the nonlinear dynamic range stretching function, while $I_{min}$ and $I_{max}$ are minimum and maxiumum image intensity values correspondingly. This formula works in [0, 1] range, so we have to multiply it by 255 to get it to a range we use in our images as otherwise will get a [0, 1] floating point value range:\n",
    "\n",
    "$$lut_{[0,255]}(x) = \\left( \\dfrac{x - I_{min}}{I_{max} - I_{min}} \\right) ^ \\alpha \\cdot 255$$\n",
    "\n",
    "*Please note that the fraction under power operation can become negative, so this should be correctly handled, for example, by using* `numpy.maximum(lut, 0)` *function.*"
   ]
  },
  {
   "cell_type": "code",
   "execution_count": null,
   "metadata": {},
   "outputs": [],
   "source": [
    "## Create a lookup table for the nonlinear dynamic range stretching for a given image\n",
    "## @param[in] I Image to work with\n",
    "## @param[in] alpha Function parameter\n",
    "## @return The lookup table for the linear equalization\n",
    "def NonlinearDynamicRangeStretching(I, alpha):\n",
    "  # Calculate minimum and maximum image intensity values\n",
    "  Imin = I.min()\n",
    "  Imax = I.max()\n",
    "\n",
    "  # Fill lut with values from 0 to 255  \n",
    "  lut = np.arange(256, dtype = np.float32)\n",
    "  # Apply formula\n",
    "  lut = np.power(np.maximum(((lut - Imin) / (Imax - Imin)), 0), alpha) * 255\n",
    "  # Clip and convert to uint8\n",
    "  return lut.clip(0, 255).astype(np.uint8)\n",
    "\n",
    "# Now we can apply it\n",
    "Inldrs = cv.LUT(Igray, NonlinearDynamicRangeStretching(I, 0.7))\n",
    "ShowImages([(\"Source image\", Igray), \n",
    "            (\"Nonlinear dynamic range stretching\", Inldrs)])\n",
    "\n",
    "# Let's also show histograms before and after to compare\n",
    "ShowImages([(\"Histogram before\", Histogram(Igray)), \n",
    "            (\"Histogram after Nonlinear dynamic range stretching\", Histogram(Inldrs))], 0)"
   ]
  },
  {
   "cell_type": "markdown",
   "metadata": {},
   "source": [
    "#### 1.5.3 Uniform transformation\n",
    "\n",
    "The uniform transformation is carried out according to the formula\n",
    "\n",
    "$$LUT(x) = (I_{max} - I_{min}) \\cdot P(x) + I_{min}$$\n",
    "\n",
    "where $P(x)$ is the image cummulative histogram, while $I_{min}$ and $I_{max}$ are minimum and maxiumum image intensity values correspondingly. Note that cummulative histogram is a floating point value function (array), so calculations should be done with floating point and then converted to a `uint8` range. "
   ]
  },
  {
   "cell_type": "code",
   "execution_count": null,
   "metadata": {},
   "outputs": [],
   "source": [
    "## Create a lookup table for the uniform transformation for a given image\n",
    "## @param[in] I Image to work with\n",
    "## @return The lookup table for the linear equalization\n",
    "def UniformTransformation(I):\n",
    "  # Calculate minimum and maximum image intensity values\n",
    "  Imin = I.min()\n",
    "  Imax = I.max()\n",
    "\n",
    "  # Calculate the cummulative histogram\n",
    "  hist = cv.calcHist([Igray], [0], None, [256], [0, 256])[:, 0]\n",
    "  P = cum_hist = np.cumsum(hist) / Igray.shape[0] / Igray.shape[1]\n",
    "\n",
    "  # Apply formula\n",
    "  lut = (Imax - Imin) * P + Imin\n",
    "  # Clip and convert to uint8\n",
    "  return lut.clip(0, 255).astype(np.uint8)\n",
    "\n",
    "# Now we can apply it\n",
    "Iuniform = cv.LUT(Igray, UniformTransformation(I))\n",
    "ShowImages([(\"Source image\", Igray), (\"Uniform transformation\", Iuniform)])\n",
    "\n",
    "# Let's also show histograms before and after to compare\n",
    "ShowImages([(\"Histogram before\", Histogram(Igray)), (\"Histogram after Uniform transformation\", Histogram(Iuniform))], 0)"
   ]
  },
  {
   "cell_type": "markdown",
   "metadata": {},
   "source": [
    "#### 1.5.4 Exponential transformation\n",
    "\n",
    "The exponential transformation is carried out according to the formula\n",
    "\n",
    "$$LUT_{[0,1]}(x) = I_{min} - \\dfrac{1}{\\alpha} \\cdot \\ln\\left(1-P(x)\\right)$$\n",
    "\n",
    "where $I_{min}$ is minimum image intensity value and $P(x)$ is image cummulative histogram. \n",
    "\n",
    "This formula works in [0, 1] floating point values range, so we have to change it by dividing $I_{min}$  by $255$ and then converting back to [0, 255] by adding multiplication of the result by $255$:\n",
    "\n",
    "$$LUT_{[0,255]}(x) = \\left( \\dfrac{I_{min}}{255.0} - \\dfrac{1}{\\alpha} \\cdot \\ln\\left(1-P(x)\\right) \\right) \\cdot 255$$\n",
    "\n",
    "*To avoid division by zero in formula implementation you may add epsilon clipping by using* `np.maximum(1 - P, sys.float_info.epsilon)` *function.*"
   ]
  },
  {
   "cell_type": "markdown",
   "metadata": {},
   "source": [
    "---\n",
    "> ***Self-work***\n",
    ">\n",
    "> Finish the implementation of the exponential transformation.\n",
    "---"
   ]
  },
  {
   "cell_type": "code",
   "execution_count": null,
   "metadata": {},
   "outputs": [],
   "source": [
    "## Create a lookup table for the exponential transformation for a given image\n",
    "## @param[in] I Image to work with\n",
    "## @param[in] alpha Transofmration parameter\n",
    "## @return The lookup table for the exponential equalization\n",
    "def ExponentialTransformation(I, alpha):\n",
    "  # TODO Place your solution here\n",
    "  pass\n",
    "\n",
    "  # TODO Place your solution here\n"
   ]
  },
  {
   "cell_type": "markdown",
   "metadata": {},
   "source": [
    "#### 1.5.5 Rayleigh transformation\n",
    "\n",
    "The Rayleigh transformation is carried out according to the formula\n",
    "\n",
    "$$LUT_{[0,1]}(x) = I_{min}+\\sqrt{2\\alpha^2 \\ln\\left(\\dfrac1{1-P(x)}\\right)}$$\n",
    "\n",
    "where $I_{min}$ is minimum image intensity value, $P(x)$ is image cummulative histogram, and  $\\alpha$ is constant characterizing the histogram of the resulting image elements intensity distribution.\n",
    "\n",
    "This formula works in [0, 1] floating point values range, so we have to convert our source $I_{min}$ to it by dividing $I_{min}$ by $255$ and then converting back to [0, 255] by adding multiplication of the result by $255$:\n",
    "\n",
    "$$LUT_{[0,255]}(x) = \\left(\\dfrac{I_{min}}{255.0}+\\sqrt{2\\alpha^2 \\ln\\left(\\dfrac1{1-P(x)}\\right)}\\right) \\cdot 255$$\n",
    "\n",
    "*To avoid division by zero in formula implementation you may add epsilon clipping by using* `np.maximum(1 - P, sys.float_info.epsilon)` *function.*"
   ]
  },
  {
   "cell_type": "markdown",
   "metadata": {},
   "source": [
    "---\n",
    "> ***Self-work***\n",
    ">\n",
    "> Finish the implementation of the Rayleigh transformation.\n",
    "---"
   ]
  },
  {
   "cell_type": "code",
   "execution_count": null,
   "metadata": {},
   "outputs": [],
   "source": [
    "## Create a lookup table for the Rayleigh transformation for a given image\n",
    "## @param[in] I Image to work with\n",
    "## @param[in] alpha Transofmration parameter\n",
    "## @return The lookup table for the exponential equalization\n",
    "def RayleighTransformation(I, alpha):\n",
    "  # TODO Place your solution here\n",
    "  pass\n",
    "\n",
    "  # TODO Place your solution here\n"
   ]
  },
  {
   "cell_type": "markdown",
   "metadata": {},
   "source": [
    "#### 1.5.6 2/3 degree transformation\n",
    "\n",
    "The 2/3 degree transformation is carried out according to the formula\n",
    "\n",
    "$$LUT_{[0,1]}(x) = P(x)^{2/3}$$\n",
    "\n",
    "where $P(x)$ is image cummulative histogram.\n",
    "\n",
    "This formula works in [0, 1] floating point values range, so we have to convert it to [0, 255] range by adding multiplication of the result by $255$:\n",
    "\n",
    "$$LUT_{[0,255]}(x) = P(x)^{2/3} \\cdot 255$$\n",
    "\n",
    "*To avoid division by zero in formula implementation you may add epsilon clipping by using* `np.maximum(1 - P, sys.float_info.epsilon)` *function.*"
   ]
  },
  {
   "cell_type": "markdown",
   "metadata": {},
   "source": [
    "---\n",
    "> ***Self-work***\n",
    ">\n",
    "> Finish the implementation of the 2/3 degree transformation.\n",
    "---"
   ]
  },
  {
   "cell_type": "code",
   "execution_count": null,
   "metadata": {},
   "outputs": [],
   "source": [
    "## Create a lookup table for the 2/3 degree transformation for a given image\n",
    "## @param[in] I Image to work with\n",
    "## @return The lookup table for the exponential equalization\n",
    "def TwoThirdDegreeTransformation(I):\n",
    "  # TODO Place your solution here\n",
    "  pass\n",
    "\n",
    "  # TODO Place your solution here\n"
   ]
  },
  {
   "cell_type": "markdown",
   "metadata": {},
   "source": [
    "#### 1.5.7 Hyperbolic transformation\n",
    "\n",
    "The hyperbolic transformation is carried out according to the formula\n",
    "\n",
    "$$LUT_{[0,1]}(x) = \\alpha^{P(x)}$$\n",
    "\n",
    "where $P(x)$ is image cummulative histogram.\n",
    "\n",
    "This formula works in [0, 1] floating point values range, so we have to convert it to [0, 255] range by adding multiplication of the result by $255$:\n",
    "\n",
    "$$LUT_{[0,255]}(x) = \\alpha^{P(x)} \\cdot 255$$"
   ]
  },
  {
   "cell_type": "markdown",
   "metadata": {},
   "source": [
    "---\n",
    "> ***Self-work***\n",
    ">\n",
    "> Finish the implementation of the hyperbolic transformation.\n",
    "---"
   ]
  },
  {
   "cell_type": "code",
   "execution_count": null,
   "metadata": {},
   "outputs": [],
   "source": [
    "## Create a lookup table for the hyperbolic transformation for a given image\n",
    "## @param[in] I Image to work with\n",
    "## @param[in] alpha Transofmration parameter\n",
    "## @return The lookup table for the exponential equalization\n",
    "def HyperbolicTransformation(I, alpha):\n",
    "  # TODO Place your solution here\n",
    "  pass\n",
    "\n",
    "  # TODO Place your solution here\n"
   ]
  },
  {
   "cell_type": "markdown",
   "metadata": {},
   "source": [
    "### 1.6 OpenCV built-in transformations\n",
    "\n",
    "OpenCV toolkit also provides some functions for automatic histogram equalization:\n",
    "- `equalizeHist()` to enhance the image contrast using histogram equalization;\n",
    "- `createCLAHE()` and `CLAHE.apply()` to enhance the contrast of the grayscale image by transforming the values using contrast-limited adaptive histogram equalization (CLAHE).\n",
    "\n",
    "The same as in MATLAB, these functions can be applied only to a single color level of an image. So, in case if the color image is being processed then the equalization should be called for each layer separately.\n",
    "\n",
    "Let's try using them and see the result."
   ]
  },
  {
   "cell_type": "markdown",
   "metadata": {},
   "source": [
    "#### 1.6.1 OpenCV built-in histogram equalization\n",
    "\n",
    "It is executed by `equalizeHist()` method."
   ]
  },
  {
   "cell_type": "code",
   "execution_count": null,
   "metadata": {},
   "outputs": [],
   "source": [
    "# Run histogram euqalization and display images\n",
    "Icveq = cv.equalizeHist(Igray)\n",
    "ShowImages([(\"Source image\", Igray), \n",
    "            (\"OpenCV histogram equalization\", Icveq)])\n",
    "\n",
    "# Let's also show histograms before and after to compare\n",
    "ShowImages([(\"Histogram before\", Histogram(Igray)), \n",
    "            (\"Histogram after OpenCV histogram equalization\", Histogram(Icveq))], 0)"
   ]
  },
  {
   "cell_type": "markdown",
   "metadata": {},
   "source": [
    "This seems familiar to us. Let's place our histogram equalization and OpenCV one side-by-side."
   ]
  },
  {
   "cell_type": "code",
   "execution_count": null,
   "metadata": {},
   "outputs": [],
   "source": [
    "ShowImages([(\"OpenCV\", Icveq), \n",
    "            (\"Our\", Ilineareq)], 2)\n",
    "ShowImages([(\"OpenCV\", Histogram(Icveq)), \n",
    "            (\"Our\", Histogram(Ilineareq))], 2)"
   ]
  },
  {
   "cell_type": "markdown",
   "metadata": {},
   "source": [
    "There is a little difference which can be explained by a bit different order of floating point operations resulting in a shift of some values."
   ]
  },
  {
   "cell_type": "markdown",
   "metadata": {},
   "source": [
    "---\n",
    "> ***Self-work***\n",
    ">\n",
    "> Try running the same code for a different image. Does the result still match with two different implementations?\n",
    "---"
   ]
  },
  {
   "cell_type": "code",
   "execution_count": null,
   "metadata": {},
   "outputs": [],
   "source": [
    "# TODO Place your solution here\n"
   ]
  },
  {
   "cell_type": "markdown",
   "metadata": {},
   "source": [
    "#### 1.6.2 Adaptive histogram transformation\n",
    "\n",
    "This transformation is executed with sliding window."
   ]
  },
  {
   "cell_type": "code",
   "execution_count": null,
   "metadata": {},
   "outputs": [],
   "source": [
    "# Create CLAHE object and apply transformation\n",
    "clahe = cv.createCLAHE()\n",
    "clahe.setClipLimit(4)\n",
    "clahe.setTilesGridSize((20, 20))\n",
    "Iclahe = clahe.apply(Igray)\n",
    "ShowImages([(\"Source image\", Igray), \n",
    "            (\"OpenCV CLAHE\", Iclahe)])\n",
    "\n",
    "# Let's also show histograms before and after to compare\n",
    "ShowImages([(\"Histogram before\", Histogram(Igray)), \n",
    "            (\"Histogram after OpenCV CLAHE\", Histogram(Iclahe))], 0)"
   ]
  },
  {
   "cell_type": "markdown",
   "metadata": {},
   "source": [
    "## Task 2. Profiles\n",
    "\n",
    "*Select an arbitrary image containing a barcode. Calculate an image profile along the barcode.*"
   ]
  },
  {
   "cell_type": "markdown",
   "metadata": {},
   "source": [
    "**Image profile** along an arbitrary line is the intensity function image which is distributed along this line. The simplest case of image profile is a row profile:\n",
    "\n",
    "$$profile(I, i, x)=I(x,i)$$\n",
    "\n",
    "where $i$ is the row number of the image $I$.\n",
    "\n",
    "Column profile is:\n",
    "\n",
    "$$profile(I, j, y)=I(j,y)$$\n",
    "\n",
    "where $j$ is the column number of the image $I$.\n",
    "\n",
    "In general case, an image profile can be considered along arbitrary straight, poly or curved line intersects the image. After image profile array getting it can be analyzed using standard approaches. The analysis allows to automatically highlight the special points of the profile function corresponding to the image contours intersected by this line. For example, if we calculate the profile of the barcode image along the axis intersecting barcode lines, we can then process it to extract the information about lines thickness and easily calculate the barcode code value."
   ]
  },
  {
   "cell_type": "markdown",
   "metadata": {},
   "source": [
    "Let's calculate the profile in a simple way by slicing the image as an array. If we need a profile along arbitrary line then we can first rotate an image and then do a profile along new horizontal or vertical axis. We will learn how to rotate image later in this course."
   ]
  },
  {
   "cell_type": "markdown",
   "metadata": {},
   "source": [
    "First, lest open an image with barcode."
   ]
  },
  {
   "cell_type": "code",
   "execution_count": null,
   "metadata": {},
   "outputs": [],
   "source": [
    "# Read image\n",
    "fn_barcode = \"images/barcode.png\"\n",
    "Icode = cv.imread(fn_barcode, cv.IMREAD_GRAYSCALE)\n",
    "if not isinstance(Icode, np.ndarray) or Icode.data == None:\n",
    "  print(\"Error reading file \\\"{}\\\"\".format(fn))\n"
   ]
  },
  {
   "cell_type": "markdown",
   "metadata": {},
   "source": [
    "Now let's do a slice right in the middle to get a barcode profile. Then we will display it."
   ]
  },
  {
   "cell_type": "code",
   "execution_count": null,
   "metadata": {},
   "outputs": [],
   "source": [
    "offset = round(Icode.shape[0] / 2)\n",
    "profile = Icode[offset, :]\n",
    "Iprof = np.full((256, Icode.shape[1], 3), 255, dtype = np.uint8)\n",
    "DrawGraph(Iprof, profile.astype(np.uint32), (0, 0, 0), profile.max())\n",
    "ShowImages([(\"Image\", Icode), \n",
    "            (\"Profile\", Iprof)], 0)"
   ]
  },
  {
   "cell_type": "markdown",
   "metadata": {},
   "source": [
    "We can also cleanup this profile a little for easier processing by thresholding it."
   ]
  },
  {
   "cell_type": "code",
   "execution_count": null,
   "metadata": {},
   "outputs": [],
   "source": [
    "mask = profile > 128\n",
    "profile2 = np.zeros_like(profile)\n",
    "profile2[mask] = 255\n",
    "profile2[~mask] = 0\n",
    "Iprof2 = np.full((256, Icode.shape[1], 3), 255, dtype = np.uint8)\n",
    "DrawGraph(Iprof2, profile2.astype(np.uint32), (0, 0, 0), profile.max())\n",
    "ShowImages([(\"Image\", Icode), \n",
    "            (\"Profile after cleanup\", Iprof2)], 0)"
   ]
  },
  {
   "cell_type": "markdown",
   "metadata": {},
   "source": [
    "---\n",
    "> ***Self-work***\n",
    ">\n",
    "> Take some arbitrary barcode image and calculate the image profile.\n",
    "---"
   ]
  },
  {
   "cell_type": "code",
   "execution_count": null,
   "metadata": {},
   "outputs": [],
   "source": [
    "# TODO Place your solution here\n"
   ]
  },
  {
   "cell_type": "markdown",
   "metadata": {},
   "source": [
    "## Task 3. Projections\n",
    "\n",
    "*Select an arbitrary image containing monotone areas and prominent objects. Calculate image projections on the vertical and horizontal axes. Define the objects boundaries.*"
   ]
  },
  {
   "cell_type": "markdown",
   "metadata": {},
   "source": [
    "To do this first we need to read and image."
   ]
  },
  {
   "cell_type": "code",
   "execution_count": null,
   "metadata": {},
   "outputs": [],
   "source": [
    "# Read an image from file in grayscale\n",
    "fn_proj = \"images/text.png\"\n",
    "Iproj = cv.imread(fn_proj, cv.IMREAD_GRAYSCALE)\n",
    "if not isinstance(Iproj, np.ndarray) or Iproj.data == None:\n",
    "  print(\"Error reading file \\\"{}\\\"\".format(fn))\n"
   ]
  },
  {
   "cell_type": "markdown",
   "metadata": {},
   "source": [
    "As we have black text on white background, let's binarize it and invert to filter some noise. The `127` value is taken as a boundary for binarization. Everything below it is set to `0`, everything above it is set to `255`. The `cv.THRESH_BINARY_INV` inverts the result making white background to become black."
   ]
  },
  {
   "cell_type": "code",
   "execution_count": null,
   "metadata": {},
   "outputs": [],
   "source": [
    "# Invert and convert to BW\n",
    "Iproj_bw = cv.threshold(Iproj, 127, 255, cv.THRESH_BINARY_INV)[1]"
   ]
  },
  {
   "cell_type": "markdown",
   "metadata": {},
   "source": [
    "Now we can calculate projections with numpy `sum()` method. Projection to $X$ axis is done by summing with axis `0` and projection to $Y$ axis is done by summing with axis `1`."
   ]
  },
  {
   "cell_type": "code",
   "execution_count": null,
   "metadata": {},
   "outputs": [],
   "source": [
    "# Do projection\n",
    "proj_x = np.sum(Iproj_bw, 0) / 255\n",
    "proj_y = np.sum(Iproj_bw, 1) / 255"
   ]
  },
  {
   "cell_type": "markdown",
   "metadata": {},
   "source": [
    "And display them same as we did before for histograms."
   ]
  },
  {
   "cell_type": "code",
   "execution_count": null,
   "metadata": {},
   "outputs": [],
   "source": [
    "# Create X projection graph image\n",
    "proj_x_img = np.full((256, Iproj.shape[1], 3), 255, dtype = np.uint8)\n",
    "DrawGraph(proj_x_img, proj_x, (0, 0, 0), proj_x.max())\n",
    "proj_x_img = cv.flip(proj_x_img, 0)\n",
    "\n",
    "# Create Y projection graph image\n",
    "proj_y_img = np.full((256, Iproj.shape[0], 3), 255, dtype = np.uint8)\n",
    "DrawGraph(proj_y_img, proj_y, (0, 0, 0), proj_y.max())\n",
    "proj_y_img = cv.transpose(proj_y_img)\n",
    "proj_y_img = cv.flip(proj_y_img, 1)\n",
    "\n",
    "# And show it all\n",
    "ShowImages([(\"Image\", Iproj), (\"Y projection\", proj_y_img), (\"X projection\", proj_x_img), (\"Image BW\", Iproj_bw)], 2, False)"
   ]
  },
  {
   "cell_type": "markdown",
   "metadata": {},
   "source": [
    "Next we need to find first and last non-zero elements in the projections."
   ]
  },
  {
   "cell_type": "code",
   "execution_count": null,
   "metadata": {},
   "outputs": [],
   "source": [
    "# Find non-zero element indeces\n",
    "proj_x_nonzero = proj_x.nonzero()\n",
    "proj_y_nonzero = proj_y.nonzero()\n",
    "# Take first and last indeces as a range\n",
    "x_range = (proj_x_nonzero[0][0], proj_x_nonzero[0][len(proj_x_nonzero[0]) - 1])\n",
    "y_range = (proj_y_nonzero[0][0], proj_y_nonzero[0][len(proj_y_nonzero[0]) - 1])\n",
    "print(\"The object position is from {} to {} along X axis and from {} to {} along Y axis\".\n",
    "      format(x_range[0], x_range[1], y_range[0], y_range[1]))"
   ]
  },
  {
   "cell_type": "markdown",
   "metadata": {},
   "source": [
    "Now when we know the range, we can highlight it on our source image with `cv.rectangle()` function."
   ]
  },
  {
   "cell_type": "code",
   "execution_count": null,
   "metadata": {},
   "outputs": [],
   "source": [
    "# Convert image to BGR to be able to draw in color\n",
    "Ihglt = cv.cvtColor(Iproj, cv.COLOR_GRAY2BGR)\n",
    "# Draw a rectangle basing on non-zero elements we found and don't forget about 1 pixel gap\n",
    "Ihglt = cv.rectangle(Ihglt, \n",
    "                     (x_range[0] - 1, y_range[0] - 1), \n",
    "                     (x_range[1] + 1, y_range[1] + 1), \n",
    "                     (0, 0, 255), 1)\n",
    "ShowImages([(\"Found object\", Ihglt)])"
   ]
  },
  {
   "cell_type": "markdown",
   "metadata": {},
   "source": [
    "---\n",
    "> **Self-work**\n",
    ">\n",
    "> Take some arbitrary image containing contrast areas and calculate the object position.\n",
    "---"
   ]
  },
  {
   "cell_type": "code",
   "execution_count": null,
   "metadata": {},
   "outputs": [],
   "source": [
    "# TODO Place your solution here\n"
   ]
  },
  {
   "cell_type": "markdown",
   "metadata": {},
   "source": [
    "---\n",
    "> ***Self-work***\n",
    ">\n",
    "> *Optional*\n",
    ">\n",
    "> *Can you use projections to find several object positions on the single image? In which cases will this method work?*\n",
    "---"
   ]
  },
  {
   "cell_type": "code",
   "execution_count": null,
   "metadata": {},
   "outputs": [],
   "source": [
    "# TODO Place your solution for optional task here\n"
   ]
  },
  {
   "cell_type": "markdown",
   "metadata": {},
   "source": [
    " ## Questions\n",
    "\n",
    "Please answer the following questions:\n",
    "\n",
    " - What is the image contrast and how can you change it?\n",
    " > Put your answer here\n",
    "\n",
    " \n",
    " - Why is effective using of image profiles and projections?\n",
    " > Put your answer here\n",
    "\n",
    " - How can you find an object against a uniform background?\n",
    " > Put your answer here\n"
   ]
  },
  {
   "cell_type": "markdown",
   "metadata": {},
   "source": [
    "## Conclusion\n",
    "\n",
    "What have you learned with this task? Don't forget to conclude it.\n",
    " > Put your answer here\n"
   ]
  }
 ],
 "metadata": {
  "kernelspec": {
   "display_name": "Python 3",
   "language": "python",
   "name": "python3"
  },
  "language_info": {
   "codemirror_mode": {
    "name": "ipython",
    "version": 3
   },
   "file_extension": ".py",
   "mimetype": "text/x-python",
   "name": "python",
   "nbconvert_exporter": "python",
   "pygments_lexer": "ipython3",
   "version": "3.8.19"
  }
 },
 "nbformat": 4,
 "nbformat_minor": 2
}
