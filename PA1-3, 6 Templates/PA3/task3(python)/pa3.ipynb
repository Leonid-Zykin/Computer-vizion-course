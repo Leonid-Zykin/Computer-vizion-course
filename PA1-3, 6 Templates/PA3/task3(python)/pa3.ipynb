{
 "cells": [
  {
   "cell_type": "markdown",
   "metadata": {},
   "source": [
    "# Authors\n",
    "\n",
    "*The work can be done in groups of up to 3 students. Please complete the following fields with your group number and list your names along with ISU ID numbers.*\n",
    "\n",
    "---\n",
    "> **Stream:** *[RZZZ] Technical Vision*\n",
    "> 1. Name, ISU id\n",
    "> 2. Name, ISU id\n",
    "> 3. Name, ISU id\n",
    "---\n",
    "\n",
    "The task and guidelines were prepared by Andrei Zhdanov And Sergei Shavetov from ITMO University in 2024."
   ]
  },
  {
   "cell_type": "markdown",
   "metadata": {},
   "source": [
    "# Practical Assignment No 3. Filtering and Edges Detection\n",
    "\n",
    "Studying of the filtering images basic methods and edges detection."
   ]
  },
  {
   "cell_type": "markdown",
   "metadata": {},
   "source": [
    "## Task 1. Noises types\n",
    "\n",
    "*Select an arbitrary image. Get images distorted by various noises using the imnoise() function with parameters other than the default values.*"
   ]
  },
  {
   "cell_type": "markdown",
   "metadata": {},
   "source": [
    "### 1.1 Preparation\n",
    "\n",
    "First, we need to add some imports for OpenCV to work. Python implementation of OpenCV is in `cv2` library, but for convenience it will be imported as `cv`."
   ]
  },
  {
   "cell_type": "code",
   "execution_count": null,
   "metadata": {},
   "outputs": [],
   "source": [
    "import cv2\n",
    "import cv2 as cv\n",
    "import numpy\n",
    "import numpy as np\n",
    "import skimage\n",
    "import sys"
   ]
  },
  {
   "cell_type": "markdown",
   "metadata": {},
   "source": [
    "Also we will import `ShowImages()` function from the first practical assignment to use it here. It is placed in `lab_utils`."
   ]
  },
  {
   "cell_type": "code",
   "execution_count": null,
   "metadata": {},
   "outputs": [],
   "source": [
    "from pa_utils import ShowImages"
   ]
  },
  {
   "cell_type": "markdown",
   "metadata": {},
   "source": [
    "### 1.2 Read and display an image\n",
    "\n",
    "Now let's open our image which we will use during the current task. We will open it both in GBR and convert to grayscale. We will use previously introducted functions for image display."
   ]
  },
  {
   "cell_type": "code",
   "execution_count": null,
   "metadata": {},
   "outputs": [],
   "source": [
    "# Read an image from file in BGR\n",
    "fn = \"images/lena_color.png\"\n",
    "I = cv.imread(fn, cv.IMREAD_COLOR)\n",
    "if not isinstance(I, np.ndarray) or I.data == None:\n",
    "  print(\"Error reading file \\\"{}\\\"\".format(fn))\n",
    "  exit()\n",
    "\n",
    "# Convert BGR to grayscale\n",
    "I = cv.cvtColor(I, cv.COLOR_BGR2GRAY)\n",
    "\n",
    "# Display it\n",
    "ShowImages([(\"Source image\", I)])"
   ]
  },
  {
   "cell_type": "markdown",
   "metadata": {},
   "source": [
    "### 1.3 Noises\n",
    "\n",
    "Digital images obtained by various optoelectronic devices can contain various distortions caused by various kinds of interference, which are commonly called *noise*. The noise in the image makes it difficult to process it automatically. The noises have a different nature, and for its successful suppression it is necessary to determine an adequate mathematical model. Let's consider the most common noise models. When using OpenCV noise have to be added manually, however the `skimage` Python toolbox proveides `skimage.util.random_noise()` function wich allows adding noise. We will try both ways."
   ]
  },
  {
   "cell_type": "markdown",
   "metadata": {},
   "source": [
    "#### 1.3.1 Impulse noise\n",
    "\n",
    "With impulse noise, the signal is distorted by spikes with very large negative or positive values of short duration and can arise, for example, due to decoding errors. This noise results in white \"*salt*\" or black \"*pepper*\" dots in the image, which is why it is often called *dot* noise. To describe it, one should take into account the fact that the appearance of a noise spike in each pixel $I(x,y)$ does not depend on the quality of the original image or on the presence of noise at other points and has the probability of $p$, and the value of the pixel intensity $I(x,y)$ will be changed to value $d\\in[0,255]$:\n",
    "\n",
    "$$\n",
    "\tI_{noisy}(x,y) = \n",
    "\t\\begin{cases}\n",
    "\t\td      & ~\\text{with probability}~p    \\\\\n",
    "\t\tI(x,y) & ~\\text{with probability}~(1-p)\n",
    "\t\\end{cases}\n",
    "$$\n",
    "\n",
    "where $I(x,y)$ is the pixel intensity of the original image, $I_{noisy}$ is the noisy image, and $p$ is the nose ratio. If $d=0$ then the noise \"*pepper*\" type, if $d=255$ then noise is \"*salt*\".\n"
   ]
  },
  {
   "cell_type": "markdown",
   "metadata": {},
   "source": [
    "Let's implement the impulse noise. As for the *salt* type noise we have to add the maximum value, we will consider that only floating point images with $1.0$ maximum value, or `uint8` ones with $255$ maximum value are supported. The noise is controlled by two values: the noise probability (`p`) and salt versus pepper ratio (`s_vs_p`)."
   ]
  },
  {
   "cell_type": "code",
   "execution_count": null,
   "metadata": {},
   "outputs": [],
   "source": [
    "## Add the salt and pepper noise to an image\n",
    "## @param[in] image An image \n",
    "## @param[in] p Probability of noise\n",
    "## @param[in] s_vs_p Salt vs pepper distribution\n",
    "## @return An image with noise\n",
    "def SaltAndPepper(I, p = 0.05, s_vs_p = 0.5):\n",
    "  # Select the salt value\n",
    "  if I.dtype == np.uint8:\n",
    "    salt = 255\n",
    "  elif I.dtype == np.float32:\n",
    "    salt = 1.0\n",
    "  else:\n",
    "    print(\"Unsopported image type\")\n",
    "    return None\n",
    "\n",
    "  # Create an image\n",
    "  Inoise = np.copy(I)\n",
    "  # Get random value for each image poxel\n",
    "  rng = np.random.default_rng()\n",
    "  vals = rng.random(Inoise.shape)\n",
    "  # Add salt\n",
    "  Inoise[vals < p * s_vs_p] = salt\n",
    "  # Add pepper\n",
    "  Inoise[np.logical_and(vals >= p * s_vs_p, vals < p)] = 0\n",
    "  \n",
    "  return Inoise"
   ]
  },
  {
   "cell_type": "markdown",
   "metadata": {},
   "source": [
    "Alternatively, the `skimage.util.random_noise(I, 's&p')` function can be used. Its optional `amount` parameter can be used to modify the \"*salt*\" and \"*pepper*\" probabilities. The next optional `salt_vs_pepper`  can be used to set the relative probabilities of \"*salt*\" and \"*pepper*\" noises. Only \"*salt*\" noise can be generated by `skimage.util.random_noise(I, 'salt')` function, while only \"*pepper*\" can be generated by `skimage.util.random_noise(I, 'pepper')` function. It should also be noted that these methods converts an image to a floating point value image, so additional conversion is requred."
   ]
  },
  {
   "cell_type": "markdown",
   "metadata": {},
   "source": [
    "Let's run both this methods and compare results."
   ]
  },
  {
   "cell_type": "code",
   "execution_count": null,
   "metadata": {},
   "outputs": [],
   "source": [
    "# Own implementation\n",
    "Isnp = SaltAndPepper(I, 0.1, 0.5)\n",
    "# Skimage\n",
    "Isnp2 = (skimage.util.random_noise(I, \"s&p\", amount = 0.1, salt_vs_pepper = 0.5) * 255).astype(np.uint8)\n",
    "# Show both\n",
    "ShowImages([(\"Salt & Pepper\", Isnp), \n",
    "            (\"SKImage Salt & Pepper\", Isnp2)])"
   ]
  },
  {
   "cell_type": "markdown",
   "metadata": {},
   "source": [
    "We may also approximately calculate the resulting *salt* and *pepper* ratios with simple math transformations. Let's do it."
   ]
  },
  {
   "cell_type": "code",
   "execution_count": null,
   "metadata": {},
   "outputs": [],
   "source": [
    "diff = I.astype(np.int32) - Isnp\n",
    "print(\"Own implementation salt ratio is {:.2f}%, pepper ratio is {:.2f}%\".format(\n",
    "      100 * np.count_nonzero(diff < 0) / I.shape[0] / I.shape[1], \n",
    "      100 * np.count_nonzero(diff > 0) / I.shape[0] / I.shape[1]))\n",
    "diff2 = I.astype(np.int32) - Isnp2\n",
    "# As skimage work in floating point values with conversion, \n",
    "# so we have to take this into an account and add some epsilon value\n",
    "print(\"Skimage implemetation salt ratio is {:.2f}%, pepper ratio is {:.2f}%\".format(\n",
    "      100 * np.count_nonzero(diff2 < -1) / I.shape[0] / I.shape[1], \n",
    "      100 * np.count_nonzero(diff2 > 1) / I.shape[0] / I.shape[1]))"
   ]
  },
  {
   "cell_type": "markdown",
   "metadata": {},
   "source": [
    "#### 1.3.2 Additive noise\n",
    "\n",
    "Additive noise is described by the following expression:\n",
    "\n",
    "$$I_{noisy}(x,y) = I(x,y) + \\eta(x,y)$$\n",
    "\n",
    "where $I_{noisy}$ is the noisy image, $I$ is the original image, and $\\eta$ is the signal-independent additive noise with Gaussian or any other probability density function."
   ]
  },
  {
   "cell_type": "markdown",
   "metadata": {},
   "source": [
    "We will see an example of an additive noise a bit later in a Gaussian noise section."
   ]
  },
  {
   "cell_type": "markdown",
   "metadata": {},
   "source": [
    "#### 1.3.3 Multiplicative Noise\n",
    "\n",
    "Multiplicative noise is described by the following expression:\n",
    "\n",
    "$$I_{noisy}(x,y) = I(x,y) \\cdot \\eta(x,y)$$\n",
    "\n",
    "wheew $I_{noisy}$ is the noisy image, $I$ is the original image, and $\\eta$ is the signal independent multiplicative noise that multiplies the recorded signal. Examples include film grain, ultrasound images, etc. A special case of multiplicative noise is *speckle* noise. This noise appears in images captured by coherent imaging devices such as medical scanners or radars. In such images, one can clearly observe light spots, speckles, which are separated by dark areas of the image.\n"
   ]
  },
  {
   "cell_type": "markdown",
   "metadata": {},
   "source": [
    "Let's implement the multiplicative noise with normal distributiosn which is called the *speckle* noise."
   ]
  },
  {
   "cell_type": "code",
   "execution_count": null,
   "metadata": {},
   "outputs": [],
   "source": [
    "## Add the speckle noise to an image\n",
    "## @param[in] image An image \n",
    "## @param[in] var Random number variance\n",
    "## @return An image with noise\n",
    "def Speckle(I, var = 0.05):\n",
    "  if I.dtype != np.uint8 and I.dtype != np.float32:\n",
    "      print(\"Unsopported image values type.\")\n",
    "      return None\n",
    "\n",
    "  # Generate a random number with normal distribution for each image pixel\n",
    "  rng = np.random.default_rng()\n",
    "  gauss = rng.normal(0, var ** 0.5, I.shape)\n",
    "\n",
    "  # Add a multiple of this distribution to our image\n",
    "  # The image values type should be taken into an account here \n",
    "  # as we should work with floating point values\n",
    "  if I.dtype == np.uint8:\n",
    "    out = (I.astype(np.float32) * (gauss + 1)).clip(0, 255).astype(np.uint8)\n",
    "  else:\n",
    "    out = I * (gauss + 1)\n",
    "\n",
    "  return out"
   ]
  },
  {
   "cell_type": "markdown",
   "metadata": {},
   "source": [
    "This noise can also be applied to an image by using `skimage.util.random_noise(I, 'speckle')`. Optional `mean` and `var` parameters defines the mean and variance for the normal distribution used to generate noise."
   ]
  },
  {
   "cell_type": "markdown",
   "metadata": {},
   "source": [
    "Let's run both this methods and compare results."
   ]
  },
  {
   "cell_type": "code",
   "execution_count": null,
   "metadata": {},
   "outputs": [],
   "source": [
    "# Own implementation\n",
    "Isp = Speckle(I, 0.05)\n",
    "# Skimage\n",
    "Isp2 = (skimage.util.random_noise(I, \"speckle\", mean = 0, var = 0.05) * 255).astype(np.uint8)\n",
    "# Show both\n",
    "ShowImages([(\"Speckle\", Isp), \n",
    "            (\"SKImage Speckle\", Isp2)])"
   ]
  },
  {
   "cell_type": "markdown",
   "metadata": {},
   "source": [
    "#### 1.3.4 Gaussian (Normal) Noise\n",
    "\n",
    "Gaussian noise in the additive noise on the image that can occur due to a lack of scene illumination, high temperature, etc. The noise model is widely used in low-pass filtering of images. The probability density distribution function $p(z)$ of the random variable $z$ is described by the following expression:\n",
    "\n",
    "$$p(z) = \\dfrac{1}{\\sigma \\sqrt{2\\pi}}e^{\\frac{-(z-\\mu)^2}{2\\sigma^2}}$$\n",
    "\n",
    "where $z$ is the the intensity of the image (for example, for a grayscale image $z\\in[0,255]$), $\\mu$ is the mean (mathematical expectation) of a random variable $z$, $\\sigma$ is the standard deviation, variance $\\sigma^2$ determines the power of the introduced noise. Approximately $67%$ of the random variable $z$ values is concentrated in the range $\\left[(\\mu-\\sigma),(\\mu+\\sigma)\\right]$ and about $96%$ in the range $\\left[(\\mu-2\\sigma),(\\mu+2\\sigma)\\right]$.\n"
   ]
  },
  {
   "cell_type": "markdown",
   "metadata": {},
   "source": [
    "As we know that this is an additive noise and it uses the normal distribution, we can easily implement it."
   ]
  },
  {
   "cell_type": "code",
   "execution_count": null,
   "metadata": {},
   "outputs": [],
   "source": [
    "## Add the Gaussian noise to an image\n",
    "## @param[in] image An image \n",
    "## @param[in] mean Mean value\n",
    "## @param[in] var Variance\n",
    "## @return An image with noise\n",
    "def Gaussian(I, mean = 0, var = 0.01):\n",
    "  if I.dtype != np.uint8 and I.dtype != np.float32:\n",
    "    print(\"Unsopported image values type.\")\n",
    "    return None\n",
    "\n",
    "  rng = np.random.default_rng()\n",
    "  gauss = rng.normal(mean, var ** 0.5, I.shape)\n",
    "  \n",
    "  if I.dtype == np.uint8:\n",
    "    out = (I.astype(np.float32) + gauss * 255).clip(0, 255).astype(np.uint8)\n",
    "  else:\n",
    "    out = (I + gauss).astype(np.float32)\n",
    "  \n",
    "  return out"
   ]
  },
  {
   "cell_type": "markdown",
   "metadata": {},
   "source": [
    "It can also be applied to an image by using `skimage.util.random_noise(I, 'gaussian')` function. Optional `mean` and `var` parameters defines the mean and variance for the normal distribution used to generate noise. The additional `skimage.util.random_noise(I, 'localvar')` function allows to specify the local random variance for each pixel of the image passed by an extra `local_vars` function parameter."
   ]
  },
  {
   "cell_type": "markdown",
   "metadata": {},
   "source": [
    "Let's run both this methods and compare results."
   ]
  },
  {
   "cell_type": "code",
   "execution_count": null,
   "metadata": {},
   "outputs": [],
   "source": [
    "# Own implementation\n",
    "Igauss = Gaussian(I, 0, 0.05)\n",
    "# Skimage\n",
    "Igauss2 = (skimage.util.random_noise(I, \"gaussian\", mean = 0, var = 0.05) * 255).astype(np.uint8)\n",
    "# Show both\n",
    "ShowImages([(\"Gaussian\", Igauss), \n",
    "            (\"SKImage Gaussian\", Igauss2)])"
   ]
  },
  {
   "cell_type": "markdown",
   "metadata": {},
   "source": [
    "#### 1.3.5 Quantization Noise\n",
    "\n",
    "Depends on the selected quantization step and on the signal. Quantization noise can lead, for example, to the appearance of false contours around objects or to remove low-contrast details in the image. Such noise is not eliminated. Quantization noise can be approximately described by the Poisson distribution."
   ]
  },
  {
   "cell_type": "markdown",
   "metadata": {},
   "source": [
    "Since we know the distribution type, we can implement this noise."
   ]
  },
  {
   "cell_type": "code",
   "execution_count": null,
   "metadata": {},
   "outputs": [],
   "source": [
    "## Add the poison noise to an image\n",
    "## @param[in] image An image \n",
    "## @return An image with noise\n",
    "def Poisson(I):\n",
    "  rng = np.random.default_rng()\n",
    "  # We have to calculate the number of unique values then add\n",
    "  # the poisson distribution noise basing on this number to\n",
    "  # simulate the quantization noise\n",
    "  if I.dtype == np.uint8:\n",
    "    Ifloat = I.astype(np.float32) / 255\n",
    "    vals = len(np.unique(Ifloat))\n",
    "    vals = 2 ** np.ceil(np.log2(vals))\n",
    "    out = (255 * (rng.poisson(Ifloat * vals) / float(vals)).clip(0, 1)).astype(np.uint8)\n",
    "  elif I.dtype == np.float32:\n",
    "    vals = len(np.unique(I))\n",
    "    vals = 2 ** np.ceil(np.log2(vals))\n",
    "    out = rng.poisson(I * vals) / float(vals)\n",
    "  else:\n",
    "    print(\"Unsopported image values type.\")\n",
    "    return None\n",
    "  \n",
    "  return out"
   ]
  },
  {
   "cell_type": "markdown",
   "metadata": {},
   "source": [
    "It can also be applied  by using `skimage.util.random_noise(I, 'poisson')` function."
   ]
  },
  {
   "cell_type": "markdown",
   "metadata": {},
   "source": [
    "Let's run both this methods and compare results."
   ]
  },
  {
   "cell_type": "code",
   "execution_count": null,
   "metadata": {},
   "outputs": [],
   "source": [
    "# Own implementation\n",
    "Ipoisson = Poisson(I)\n",
    "# Skimage\n",
    "Ipoisson2 = (skimage.util.random_noise(I, \"poisson\") * 255).astype(np.uint8)\n",
    "# Show both\n",
    "ShowImages([(\"Poisson\", Ipoisson), \n",
    "            (\"SKImage Poisson\", Ipoisson2)])"
   ]
  },
  {
   "cell_type": "markdown",
   "metadata": {},
   "source": [
    "#### 1.3.6 Noise summary\n",
    "\n",
    "So, we learned how to add different type of noise. Let's write a copy of MATLAB's `imnoise` function."
   ]
  },
  {
   "cell_type": "code",
   "execution_count": null,
   "metadata": {},
   "outputs": [],
   "source": [
    "## Add noise to an image\n",
    "## @param[in] image An image \n",
    "## @param[in] noise_type Noise type to add\n",
    "## @param[in] param1 First noise-dependent parameter\n",
    "## @param[in] param2 Second noise-dependent parameter\n",
    "## @return An image with noise\n",
    "## @note For \"salt & pepper\" type, param1 is the probability, param2 is the salt vs pepper ratio.\n",
    "## @note For \"speckle\" type, param1 is variance.\n",
    "## @note For \"gaussian\" type, param1 is mean, param2 is variance.\n",
    "def imnoise(I, noise_type, param1 = None, param2 = None):\n",
    "  # Salt & pepper (param1 - probability, param2 - salt vs pepper)\n",
    "  if noise_type == \"salt & pepper\":\n",
    "    if param1 != None:\n",
    "      d = param1\n",
    "    else:\n",
    "      d = 0.05\n",
    "    if param2 != None:\n",
    "      s_vs_p = param2\n",
    "    else:\n",
    "      s_vs_p = 0.5\n",
    "    \n",
    "    return SaltAndPepper(I, d, s_vs_p)\n",
    "\n",
    "  # Multiplicative Noise (param1 - variance)\n",
    "  if noise_type ==\"speckle\": # Variance of multiplicative noise, specified as a numeric scalar\n",
    "    if param1 != None:\n",
    "      var = param1\n",
    "    else:\n",
    "      var = 0.05\n",
    "\n",
    "    return Speckle(I, var)\n",
    "\n",
    "  # Gaussian Noise (param1 - mean, param2 - variance)\n",
    "  if noise_type == \"gaussian\":\n",
    "    if param1 != None:\n",
    "      mean = param1\n",
    "    else:\n",
    "      mean = 0\n",
    "    if param2 != None:\n",
    "      var = param2\n",
    "    else:\n",
    "      var = 0.01\n",
    "\n",
    "    return Gaussian(I, mean, var)\n",
    "\n",
    "  # Quantization Noise\n",
    "  if noise_type == \"poisson\":\n",
    "    return Poisson(I)\n",
    "\n",
    "  return None\n"
   ]
  },
  {
   "cell_type": "markdown",
   "metadata": {},
   "source": [
    "Also, let's make a more convinient array of images to test different noise filters."
   ]
  },
  {
   "cell_type": "code",
   "execution_count": null,
   "metadata": {},
   "outputs": [],
   "source": [
    "Itmp = I # cv.resize(I, (256, 256))\n",
    "Inoise = [(\"Salt & Pepper\", SaltAndPepper(Itmp, 0.1)), \n",
    "          (\"Speckle\", Speckle(Itmp)), \n",
    "          (\"Gaussian\", Gaussian(Itmp)), \n",
    "          (\"Poisson\", Poisson(Itmp))]\n",
    "ShowImages(Inoise, 0)"
   ]
  },
  {
   "cell_type": "markdown",
   "metadata": {},
   "source": [
    "---\n",
    "> ***Self-work***\n",
    ">\n",
    "> Take some arbitrary image and apply different noises to it. Show the results and store them in an array to test filters.\n",
    "---"
   ]
  },
  {
   "cell_type": "code",
   "execution_count": null,
   "metadata": {},
   "outputs": [],
   "source": [
    "# TODO Place your solution here\n"
   ]
  },
  {
   "cell_type": "markdown",
   "metadata": {},
   "source": [
    "## Task 2. Low-pass filtering\n",
    "\n",
    "*Process the distorted images obtained in the previous paragraph with considered low-pass filters and a counterharmonic mean filter with different values of the parameter 𝑄.*"
   ]
  },
  {
   "cell_type": "markdown",
   "metadata": {},
   "source": [
    "### 2.1 Sliding window filters\n",
    "\n",
    "Let's consider the main methods of image filtering. It the neighboring pixels values in a certain neighborhood are taken into account to calculate th intensity value of the each pixel, then such a transformation is called $\\text{local}$, and the neighborhood is called a *window*. The \"window\" is called *mask*, *filter*, *filter kernel*, and matrix coefficients are called *coefficients*. The center of the mask is aligned with the analyzed pixel, and the mask coefficients are multiplied by the intensities of the pixels covered by the mask. Typically, the mask has a square shape of $3\\times 3$, $5\\times 5 $, etc. Filtering an $M\\times N$ image $I$ using a mask of $m\\times n$ size is described by the formula:\n",
    "\n",
    "$$I_{filtered}(x,y) = \\sum_s \\sum_t w(s,t)I(x+s, y+t)$$\n",
    "\n",
    "where $s$ and $t$ are the coordinates of the mask elements relative to its center (in the center $s=t=0$). Such transformations are called *linear*. After calculating the new value of the pixel intensity $I_{filtered}(x,y)$ window $w$, n which the filter mask is described, it is shifted and the intensity of the next pixel is calculated. Therefore, such a transformation is called *sliding window filtering*. \n"
   ]
  },
  {
   "cell_type": "markdown",
   "metadata": {},
   "source": [
    "When using OpenCV image filtering can be performed by calling the `dst = cv2.filter2D(src, ddest, kernel)` function. Here `src` is an input image matrix, `dst` is an output image matrix, `kernel` is filtering kernel that should be specified manually. Filtering mask can be created manually by creating new numpy matrix, for example:\n",
    "\n",
    "```python\n",
    "mask = np.float64([[1, 1, 1], [1, 1, 1], [1, 1, 1]])\n",
    "```"
   ]
  },
  {
   "cell_type": "markdown",
   "metadata": {},
   "source": [
    "### 2.2 Low-pass filter kernels\n",
    "\n",
    "Low-pass spatial filters attenuate the high-pass components (areas with large intensity changes) and leave the low-pass components of the image unchanged. Used to reduce noise and remove high-pass components, which improves the accuracy of the study of the content of low-pass components. As a result of applying low-pass filters, we get a smoothed or blurred image. The main distinguishing features are:\n",
    "\n",
    "- non-negative mask coefficients;\n",
    "- the sum of all coefficients is equal to one.\n",
    "\n",
    "Examples of low-pass filter kernels:\n",
    "\n",
    "$$\n",
    "\tw_1 = \\dfrac{1}{9}\n",
    "\t\\begin{bmatrix}\n",
    "\t\t1 & 1 & 1\n",
    "\t\t\\\\ 1 & 1 & 1\n",
    "\t\t\\\\ 1 & 1 & 1\n",
    "\t\\end{bmatrix},\n",
    "\tw_2 = \\dfrac{1}{10}\n",
    "\t\\begin{bmatrix}\n",
    "\t\t1 & 1 & 1\n",
    "\t\t\\\\ 1 & 2 & 1\n",
    "\t\t\\\\ 1 & 1 & 1\n",
    "\t\\end{bmatrix}.\n",
    "$$\t"
   ]
  },
  {
   "cell_type": "markdown",
   "metadata": {},
   "source": [
    "Let's try running the low-pass filter with these kernels for all our four noise types. First we implement kernel $w_2$."
   ]
  },
  {
   "cell_type": "code",
   "execution_count": null,
   "metadata": {},
   "outputs": [],
   "source": [
    "w1 = np.ones((3, 3)) / 9\n",
    "Iw1 = []\n",
    "for img in Inoise:\n",
    "  Iw1.append((img[0], cv.filter2D(img[1], -1, w1)))\n",
    "ShowImages(Iw1, 0)"
   ]
  },
  {
   "cell_type": "markdown",
   "metadata": {},
   "source": [
    "---\n",
    "> **Self-work**\n",
    ">\n",
    "> Run the low-pass 2D filter with kernel $w_2$ for all noise types.\n",
    "---"
   ]
  },
  {
   "cell_type": "code",
   "execution_count": null,
   "metadata": {},
   "outputs": [],
   "source": [
    "# TODO Place your solution here\n",
    "\n",
    "w2 = None\n",
    "Iw2 = [(\"None\", np.zeros_like(I))]\n",
    "ShowImages(Iw2, 0)"
   ]
  },
  {
   "cell_type": "markdown",
   "metadata": {},
   "source": [
    "### 2.3 Arithmetic mean filter\n",
    "\n",
    "This filter averages the pixel intensity value over the neighborhood using a mask with the same coefficients, for example, for a mask with the size $3 \\times 3$ the coefficients are $1/9$, if $5 \\times 5$ --- $1/25$. Thanks to this normalization, the value of the filtering result will be reduced to the original image intensities range. Graphically, the two-dimensional function describing the filter mask looks like a parallelepiped, so the name is used in English literature *box*-filter. Arithmetic averaging is achieved using the following formula:\n",
    "\n",
    "$$I_{filtered}(x,y) = \\dfrac{1}{m \\cdot n} \\sum_{i=0}^m \\sum_{j=0}^n I(i,j)$$\n",
    "\n",
    "where $I_{filtered}(x,y)$ is fht the value of the filtered image pixel intensity, $I(i,j)$ is the the value of the original image in the mask pixels intensities, $m$ and $n$ are the filter mask width and height respectively. This algorithm is effective for slightly noisy images. In OpenCV it can be executed by using the function `cv2.blur(I, (3, 3))` for $3 \\times 3$ filter kernel.\n"
   ]
  },
  {
   "cell_type": "code",
   "execution_count": null,
   "metadata": {},
   "outputs": [],
   "source": [
    "Iblur = []\n",
    "for img in Inoise:\n",
    "  Iblur.append((img[0], cv.blur(img[1], (3, 3))))\n",
    "ShowImages(Iblur, 0)"
   ]
  },
  {
   "cell_type": "markdown",
   "metadata": {},
   "source": [
    "### 2.4 Geometric mean filter\n",
    "\n",
    "Geometric averaging is calculated using the formula:\n",
    "\n",
    "$$I_{filtered}(x,y) = \\left[\\prod_{i=0}^{m}\\prod_{j=0}^{n} I(i,j)\\right]^{\\dfrac{1}{m \\cdot n}}$$\n",
    "\n",
    "The effect of applying this filter is similar to the previous method, but individual objects in the original image are less distorted. The filter can be used to suppress high-pass additive noise with better statistical performance than an arithmetic averaging filter.\n"
   ]
  },
  {
   "cell_type": "markdown",
   "metadata": {},
   "source": [
    "This filter can be easily implemented via arithmetic mean filter since $\\prod_{i}x_i = e^{\\sum_{i}\\ln{}x_i}$, so\n",
    "\n",
    "$$I_{filtered}(x,y) = \\left[\\prod_{i=0}^{m}\\prod_{j=0}^{n} I(i,j)\\right]^{\\dfrac{1}{m \\cdot n}} = \\left[e^{\\sum_{i=0}^{m}\\sum_{j=0}^{n} \\ln{I(i,j)}}\\right]^{\\dfrac{1}{m \\cdot n}}$$\n",
    "\n",
    "Let's implement it for a $5 \\times 5$ kernel."
   ]
  },
  {
   "cell_type": "code",
   "execution_count": null,
   "metadata": {},
   "outputs": [],
   "source": [
    "kernel = np.ones((5, 5)) / 25\n",
    "Igeom = []\n",
    "for img in Inoise:\n",
    "  Itmp = img[1].copy()\n",
    "  if img[1].dtype == np.uint8:\n",
    "    Itmp[Itmp == 0] = 1\n",
    "    Ifilter = np.power(np.exp(cv.filter2D(np.log(Itmp).astype(np.float32), -1, kernel)), np.sum(kernel)).clip(0, 255).astype(np.uint8)\n",
    "  else:\n",
    "    Itmp[Itmp == 0] = sys.float_info.epsilon\n",
    "    Ifilter = np.power(np.exp(cv.filter2D(np.log(Itmp).astype(np.float32), -1, kernel)), np.sum(kernel))\n",
    "  Igeom.append((img[0], Ifilter))\n",
    "\n",
    "ShowImages(Igeom, 0)"
   ]
  },
  {
   "cell_type": "markdown",
   "metadata": {},
   "source": [
    "### 2.5 Harmonic mean filter\n",
    "\n",
    "The filter is based on the expression:\n",
    "\n",
    "$$I_{filtered}(x,y) = \\dfrac{m \\cdot n}{ \\sum_{i=0}^m \\sum_{j=0}^n \\frac{1}{I(i,j)}}$$\n",
    "\n",
    "The filter suppresses \"*salt*\" noise well and does not work with \"*pepper*\" noise."
   ]
  },
  {
   "cell_type": "markdown",
   "metadata": {},
   "source": [
    "Let's implement this filter.\n",
    "\n",
    "At first, we need to create an image with borders, i.e., increase the image size not to think how to work with border items. As result image pixels will be shifted by the half of kernel, plus this gap will be filled with image border pixels. This is done by calling the `cv2.copyMakeBorder(I, ...)` function. It takes the following parameters: image, four gaps (top, bottom, left, right) and border type. We will use `cv2.BORDER_REPLICATE` to fill these gaps with border pixel values.\n",
    "\n",
    "Next, we will use numpy matrix operations to calculate whole sums for the whole image at time. Don't forget that this filter works in floating point pixel values, so `uint8` images should be converted to floats and divided by $255$."
   ]
  },
  {
   "cell_type": "code",
   "execution_count": null,
   "metadata": {},
   "outputs": [],
   "source": [
    "## Execute the harmonic mean filter\n",
    "## @param[in] I An image to filter\n",
    "## @param[in] kernel_size The size of the filter kernel\n",
    "## @return Filtered image\n",
    "def HarmonicMeanFilter(I, kernel_size):\n",
    "  rows, cols = I.shape[0:2]\n",
    "\n",
    "  # Filter parameters\n",
    "  kernel = np.ones((kernel_size[0], kernel_size[1]))\n",
    "  #kernel = kernel / kernel_size[0] / kernel_size[1]\n",
    "\n",
    "  # Convert to float and make image with border\n",
    "  if I.dtype == np.uint8:\n",
    "    Icopy = I.astype(np.float32) / 255\n",
    "  else:\n",
    "    Icopy = I\n",
    "  Icopy[Icopy == 0] = sys.float_info.epsilon\n",
    "  Icopy = cv.copyMakeBorder(Icopy, \n",
    "                            (kernel_size[0] - 1) // 2, kernel_size[0] // 2, \n",
    "                            (kernel_size[1] - 1) // 2, kernel_size[1] // 2, \n",
    "                            cv.BORDER_REPLICATE)\n",
    "\n",
    "  # Do filter\n",
    "  Iout = np.zeros(I.shape, np.float32)\n",
    "  for i in range(kernel_size[0]):\n",
    "    for j in range(kernel_size[1]):\n",
    "      Iout = Iout + kernel[i, j] / Icopy[i:i + rows, j:j + cols]\n",
    "  Iout = np.sum(kernel) / Iout\n",
    "\n",
    "  # Convert back to uint if needed\n",
    "  if (I.dtype == np.uint8):\n",
    "    Iout = (255 * Iout).clip(0, 255).astype(np.uint8)\n",
    "\n",
    "  return Iout"
   ]
  },
  {
   "cell_type": "markdown",
   "metadata": {},
   "source": [
    "Now we can apply it to our noisy images."
   ]
  },
  {
   "cell_type": "code",
   "execution_count": null,
   "metadata": {},
   "outputs": [],
   "source": [
    "Ihmean = []\n",
    "for img in Inoise:\n",
    "  Ihmean.append((img[0], HarmonicMeanFilter(img[1], (5, 5))))\n",
    "ShowImages(Ihmean, 0)"
   ]
  },
  {
   "cell_type": "markdown",
   "metadata": {},
   "source": [
    "It can be seen that *pepper* noise got worse, but *salt* was cleaned. Let's try filtering *salt* only noise."
   ]
  },
  {
   "cell_type": "code",
   "execution_count": null,
   "metadata": {},
   "outputs": [],
   "source": [
    "Isalt = SaltAndPepper(I, 0.05, 1)\n",
    "ShowImages([(\"Salt only\", Isalt), (\"Harmonic mean filter\", HarmonicMeanFilter(Isalt, (5, 5)))])"
   ]
  },
  {
   "cell_type": "markdown",
   "metadata": {},
   "source": [
    "### 2.5 Contra Harmonic (Inverse) Mean Filter\n",
    "\n",
    "The filter is based on the expression:\n",
    "\n",
    "$$I_{filtered}(x,y) = \\dfrac{\\sum_{i=0}^m \\sum_{j=0}^n I(i,j)^{Q+1}}{\\sum_{i=0}^m \\sum_{j=0}^n I(i,j)^Q }$$\n",
    "\n",
    "where $Q$ is the filter order. The counterharmonic filter is a generalization of the averaging filters and for $Q>0$ suppresses noises of the \"*pepper*\" type, and if $Q<0$ then noises of the \"*salt*\" type, however, it is not possible to remove white and black points at the same time. If $Q=0$ the filter turns into an arithmetic one, and if $Q=-1$ then to the harmonic one."
   ]
  },
  {
   "cell_type": "markdown",
   "metadata": {},
   "source": [
    "Implementation of the counterharmonic mean filter is very similar to a harmonic one. The only difference is that now we have to calculate top and bottom parts for the whole image separately, and then divide them."
   ]
  },
  {
   "cell_type": "markdown",
   "metadata": {},
   "source": [
    "---\n",
    "> **Self-work**\n",
    ">\n",
    "> Finish the implementation of the counterharmonic mean filter.\n",
    "---"
   ]
  },
  {
   "cell_type": "code",
   "execution_count": null,
   "metadata": {},
   "outputs": [],
   "source": [
    "## Execute the harmonic mean filter\n",
    "## @param[in] I An image to filter\n",
    "## @param[in] kernel_size The size of the filter kernel\n",
    "## @param[in] Q Filter parameter\n",
    "## @return Filtered image\n",
    "def CounterharmonicMeanFilter(I, kernel_size, Q):\n",
    "  rows, cols = I.shape[0:2]\n",
    "\n",
    "  # Filter parameters\n",
    "  kernel = np.ones((kernel_size[0], kernel_size[1]))\n",
    "  kernel = kernel / kernel_size[0] / kernel_size[1]\n",
    "\n",
    "  # Convert to float and make image with border\n",
    "  if I.dtype == np.uint8:\n",
    "    Icopy = I.astype(np.float32) / 255\n",
    "  else:\n",
    "    Icopy = I\n",
    "  Icopy = cv.copyMakeBorder(Icopy, \n",
    "                            (kernel_size[0] - 1) // 2, kernel_size[0] // 2, \n",
    "                            (kernel_size[1] - 1) // 2, kernel_size[1] // 2, \n",
    "                            cv.BORDER_REPLICATE)\n",
    "\n",
    "  # Calculate temporary matrices for I ** Q and I ** (Q + 1)\n",
    "  # Calculate numerator and denominator for each pixel\n",
    "  # Divide numerator by denominator\n",
    "  # Convert back to uint if needed\n",
    "  # And return the result\n",
    "\n",
    "  Iout = np.zeros_like(I)\n",
    "  \n",
    "  # TODO Place your solution here\n",
    "  # TODO Place your solution here\n",
    "  # TODO Place your solution here\n",
    "\n",
    "  return Iout"
   ]
  },
  {
   "cell_type": "markdown",
   "metadata": {},
   "source": [
    "When filter implementation is finished we can apply it to our noisy images."
   ]
  },
  {
   "cell_type": "code",
   "execution_count": null,
   "metadata": {},
   "outputs": [],
   "source": [
    "Ichmean = []\n",
    "for img in Inoise:\n",
    "  Ichmean.append((img[0], CounterharmonicMeanFilter(img[1], (5, 5), 2)))\n",
    "ShowImages(Ichmean, 0)"
   ]
  },
  {
   "cell_type": "markdown",
   "metadata": {},
   "source": [
    "---\n",
    "> ***Self-work***\n",
    ">\n",
    "> Try different $Q$ parameter values and tell which works better with different noise types.\n",
    "---"
   ]
  },
  {
   "cell_type": "code",
   "execution_count": null,
   "metadata": {},
   "outputs": [],
   "source": [
    "# TODO Place your solution here\n"
   ]
  },
  {
   "cell_type": "markdown",
   "metadata": {},
   "source": [
    "### 2.6 Gaussian filter\n",
    "\n",
    "The pixels in the sliding window that are closer to the analyzed pixel should have a greater influence on the filtering result than the extreme ones. Therefore, the mask weight coefficients can be described by the bell-shaped Gaussian function. During images filtering, a two-dimensional Gaussian filter is used:\n",
    "\n",
    "$$G_{\\sigma}=\\dfrac{1}{2\\pi\\sigma^2}e^{-\\frac{x^2+y^2}{2\\sigma^2}}=\\dfrac{1}{\\sigma\\sqrt{2\\pi}}e^{\\frac{-x^2}{2\\sigma^2}}\\cdot\\dfrac{1}{\\sigma\\sqrt{2\\pi}}e^{\\frac{-y^2}{2\\sigma^2}}$$\n",
    "\n",
    "The larger the parameter $\\sigma$, the more the image is blurred. Typically the filter radius $r=3\\sigma$. In this case, the mask size $2r+1\\times 2r+1$ and the matrix size is $6\\sigma+1\\times 6\\sigma+1$. Outside this neighborhood, the values of the Gaussian function will be negligible."
   ]
  },
  {
   "cell_type": "markdown",
   "metadata": {},
   "source": [
    "OpenCV provides a function for Gaussian filter called `cv2.GaussianBlur(I, ksize, sigmaX, borderType)`. The additional parameters are used to specify the kernel size as a tuple (e.g., `ksize = (5, 5)` for $5 \\times 5$ kernel), $\\sigma$ value and border type (we will use `cv2.BORDER_REPLICATE`).\n",
    "\n",
    "Let's run it."
   ]
  },
  {
   "cell_type": "markdown",
   "metadata": {},
   "source": [
    "---\n",
    "> **Self-work**\n",
    ">\n",
    "> Run the Gaussian blur filter for noisy images. Use the $5 \\times 5$ kernel and $\\sigma$ value $1$. Which type of noise does this filter works better with?\n",
    "---"
   ]
  },
  {
   "cell_type": "code",
   "execution_count": null,
   "metadata": {},
   "outputs": [],
   "source": [
    "Igaussblur = []\n",
    "\n",
    "# TODO Place your solution here\n",
    "for img in Inoise:\n",
    "  pass\n"
   ]
  },
  {
   "cell_type": "markdown",
   "metadata": {},
   "source": [
    "## Task 3. Nonlinear filtering\n",
    "\n",
    "*Process the distorted images obtained in the first point with median, weighted median, rank and Wiener filtering for different sizes of the mask and its coefficients.*\n",
    "\n",
    "*Optional: Implement adaptive median filtering.*"
   ]
  },
  {
   "cell_type": "markdown",
   "metadata": {},
   "source": [
    "Low-pass filters are linear and are optimal when there is a normal distribution of noise in the digital image. Linear filters locally average impulse noise, smoothing images. To eliminate impulse noise, it is better to use non-linear filters, for example, *median* filters."
   ]
  },
  {
   "cell_type": "markdown",
   "metadata": {},
   "source": [
    "### 3.1 Median filter\n",
    "\n",
    "The classical median filter uses a mask with unit coefficients. An arbitrary window shape can be set using zero coefficients. The pixel intensities in the window are represented as a column vector and sorted in ascending order. The filtered pixel is assigned the median (mean) intensity value in the series. The median element number after sorting can be calculated by the formula $n=\\frac{N+1}{2}$, where $N$ is the number of pixels involved in sorting. When using OpenCV, the median filter can be executed by calling `cv2.medianBlur(I, ksize)` function.\n",
    " \n",
    "| ![Median filter](images/median.png \"Median Filter\") | \n",
    "|:--:| \n",
    "| *Median filter* |\n"
   ]
  },
  {
   "cell_type": "markdown",
   "metadata": {},
   "source": [
    "---\n",
    "> ***Self-work*** \n",
    ">\n",
    "> Run the median filter for noisy images. Which type of noise does this filter works better with?\n",
    "---"
   ]
  },
  {
   "cell_type": "code",
   "execution_count": null,
   "metadata": {},
   "outputs": [],
   "source": [
    "Imedian = []\n",
    "\n",
    "# TODO Place your solution here\n",
    "for img in Inoise:\n",
    "  pass\n"
   ]
  },
  {
   "cell_type": "markdown",
   "metadata": {},
   "source": [
    "### 3.2 Weighted median filter\n",
    "\n",
    "In this median filtering modification in the mask, weights are used (numbers $2, 3$ etc.) to reflect more influence on the filtering result of pixels located closer to the element to be filtered. Each item is added the giver number of times to the array before sorting. Median filtering qualitatively removes impulse noise, and also does not introduce new intensity values in grayscale images. Increasing the size of the window increases the filter noise-canceling ability, but the objects outlines begin to distort. OpenCV does not profive weighted median filter, but it can be implemented.\n"
   ]
  },
  {
   "cell_type": "code",
   "execution_count": null,
   "metadata": {},
   "outputs": [],
   "source": [
    "## Weighted median filter\n",
    "## @param[in] I An image to filter\n",
    "## @param[in] weights Weights kernel\n",
    "## @return The filtered image\n",
    "def WightedMedianFilter(I, weights):\n",
    "  rows, cols = I.shape[0:2]\n",
    "  weights = weights.astype(np.uint16)\n",
    "  kernel_size = weights.shape\n",
    "  rank = int(weights.sum() // 2)\n",
    "\n",
    "  # Convert to float and make image with border\n",
    "  if I.dtype == np.uint8:\n",
    "    Icopy = I.astype(np.float32) / 255\n",
    "  else:\n",
    "    Icopy = I#.astype(np.float32)\n",
    "  Icopy = cv.copyMakeBorder(Icopy, \n",
    "                            (kernel_size[0] - 1) // 2, kernel_size[0] // 2, \n",
    "                            (kernel_size[1] - 1) // 2, kernel_size[1] // 2, \n",
    "                            cv.BORDER_REPLICATE)\n",
    "  # Fill arrays for each kernel item\n",
    "  Ilayers = np.zeros(I.shape + (weights.sum(), ), dtype = np.float32)\n",
    "  print(\"rank = {}\".format(rank))\n",
    "  if I.ndim == 2:\n",
    "    n = 0\n",
    "    for i in range(kernel_size[0]):\n",
    "      for j in range(kernel_size[1]):\n",
    "          for k in range(weights[i, j]):\n",
    "            Ilayers[:, :, n] = Icopy[i:i + rows, j:j + cols]\n",
    "            n += 1\n",
    "  else:\n",
    "    n = 0\n",
    "    for i in range(kernel_size[0]):\n",
    "      for j in range(kernel_size[1]):\n",
    "        for k in range(weights[i, j]):\n",
    "          Ilayers[:, :, :, n] = Icopy[i:i + rows, j:j + cols, :]\n",
    "          n += 1\n",
    "\n",
    "  # Sort\n",
    "  Ilayers.sort()\n",
    "\n",
    "  # And select one with rank\n",
    "  if I.ndim == 2:\n",
    "    Iout = Ilayers[:, :, rank]\n",
    "  else:\n",
    "    Iout = Ilayers[:, :, :, rank]\n",
    "\n",
    "  # Convert back to uint if needed\n",
    "  if (I.dtype == np.uint8):\n",
    "    Iout = (255 * Iout).clip(0, 255).astype(np.uint8)\n",
    "\n",
    "  return Iout"
   ]
  },
  {
   "cell_type": "markdown",
   "metadata": {},
   "source": [
    "Let's run this filter doubling the weight of the central point."
   ]
  },
  {
   "cell_type": "code",
   "execution_count": null,
   "metadata": {},
   "outputs": [],
   "source": [
    "weights = np.ones((3, 3))\n",
    "weights[1, 1] = 2\n",
    "Iwmedian = []\n",
    "for img in Inoise:\n",
    "  Iwmedian.append((img[0], WightedMedianFilter(img[1], weights)))\n",
    "ShowImages(Iwmedian, 0)"
   ]
  },
  {
   "cell_type": "markdown",
   "metadata": {},
   "source": [
    "### 3.3 Rank filter\n",
    "\n",
    "A median filtering generalization is a *rank filter* of order $r$ which selects a pixel with the given number from the resulting column vector of mask elements $r\\in[1,N]$, which will be the result of filtering.\n",
    "\n",
    "- If the number of pixels in the window $N$ is odd and $r=\\frac{N+1}{2}$, then the rank filter is *median*.\n",
    "- If $r=1$, the filter selects the lowest intensity value and is called *$min$-filter*.\n",
    "- If $r=N$, the filter selects the maximum intensity value and is called *$max$-filter*.\n",
    "\n",
    "Sometimes rank is written as a percentage, for example, for *$min$-filter* rank is $0%$, median filter is $50%$, *$max$-filter* is $100%$.\n"
   ]
  },
  {
   "cell_type": "markdown",
   "metadata": {},
   "source": [
    "It can be noted that when implementing the weighted median filter we already had the `rank` variable which was used to find the median in the varying length array. We can make it a filter parameter to make it the weighted rank filter."
   ]
  },
  {
   "cell_type": "code",
   "execution_count": null,
   "metadata": {},
   "outputs": [],
   "source": [
    "## Rank filter\n",
    "## @param[in] I An image to filter\n",
    "## @param[in] weights Weights kernel\n",
    "## @param[in] rank The rank to use\n",
    "## @return The filtered image\n",
    "def WeightedRankFilter(I, weights, rank):\n",
    "  rows, cols = I.shape[0:2]\n",
    "  weights = weights.astype(np.uint16)\n",
    "  kernel_size = weights.shape\n",
    "\n",
    "  # Convert to float and make image with border\n",
    "  if I.dtype == np.uint8:\n",
    "    Icopy = I.astype(np.float32) / 255\n",
    "  else:\n",
    "    Icopy = I\n",
    "  Icopy = cv.copyMakeBorder(Icopy, \n",
    "                            (kernel_size[0] - 1) // 2, kernel_size[0] // 2, \n",
    "                            (kernel_size[1] - 1) // 2, kernel_size[1] // 2, \n",
    "                            cv.BORDER_REPLICATE)\n",
    "\n",
    "  # Fill arrays for each kernel item\n",
    "  Ilayers = np.zeros(I.shape + (weights.sum(), ), dtype = np.float32)\n",
    "  if I.ndim == 2:\n",
    "    n = 0\n",
    "    for i in range(kernel_size[0]):\n",
    "      for j in range(kernel_size[1]):\n",
    "          for k in range(weights[i, j]):\n",
    "            Ilayers[:, :, n] = Icopy[i:i + rows, j:j + cols]\n",
    "            n += 1\n",
    "  else:\n",
    "    n = 0\n",
    "    for i in range(kernel_size[0]):\n",
    "      for j in range(kernel_size[1]):\n",
    "        for k in range(weights[i, j]):\n",
    "          Ilayers[:, :, :, n] = Icopy[i:i + rows, j:j + cols, :]\n",
    "          n += 1\n",
    "\n",
    "  # Sort\n",
    "  Ilayers.sort()\n",
    "\n",
    "  # And select one with rank\n",
    "  if I.ndim == 2:\n",
    "    Iout = Ilayers[:, :, rank]\n",
    "  else:\n",
    "    Iout = Ilayers[:, :, :, rank]\n",
    "\n",
    "  # Convert back to uint if needed\n",
    "  if (I.dtype == np.uint8):\n",
    "    Iout = (255 * Iout).clip(0, 255).astype(np.uint8)\n",
    "\n",
    "  return Iout"
   ]
  },
  {
   "cell_type": "markdown",
   "metadata": {},
   "source": [
    "Of course a more simple and fast modification can be used to get only a rank filter."
   ]
  },
  {
   "cell_type": "code",
   "execution_count": null,
   "metadata": {},
   "outputs": [],
   "source": [
    "## Rank filter\n",
    "## @param[in] I An image to filter\n",
    "## @param[in] kernel_size The filter kernel size\n",
    "## @param[in] rank The rank to use\n",
    "## @return The filtered image\n",
    "def RankFilter(I, kernel_size, rank):\n",
    "  rows, cols = I.shape[0:2]\n",
    "\n",
    "  # Convert to float and make image with border\n",
    "  if I.dtype == np.uint8:\n",
    "    Icopy = I.astype(np.float32) / 255\n",
    "  else:\n",
    "    Icopy = I\n",
    "  Icopy = cv.copyMakeBorder(Icopy, \n",
    "                            (kernel_size[0] - 1) // 2, kernel_size[0] // 2, \n",
    "                            (kernel_size[1] - 1) // 2, kernel_size[1] // 2, \n",
    "                            cv.BORDER_REPLICATE)\n",
    "\n",
    "  # Fill arrays for each kernel item\n",
    "  Ilayers = np.zeros(I.shape + (kernel_size[0] * kernel_size[1], ), dtype = np.float32)\n",
    "  if I.ndim == 2:\n",
    "    for i in range(kernel_size[0]):\n",
    "      for j in range(kernel_size[1]):\n",
    "          Ilayers[:, :, i * kernel_size[1] + j] = Icopy[i:i + rows, j:j + cols]\n",
    "  else:\n",
    "    for i in range(kernel_size[0]):\n",
    "      for j in range(kernel_size[1]):\n",
    "        Ilayers[:, :, :, i * kernel_size[1] + j] = Icopy[i:i + rows, j:j + cols, :]\n",
    "\n",
    "  # Sort\n",
    "  Ilayers.sort()\n",
    "\n",
    "  # And select one with rank\n",
    "  if I.ndim == 2:\n",
    "    Iout = Ilayers[:, :, rank]\n",
    "  else:\n",
    "    Iout = Ilayers[:, :, :, rank]\n",
    "\n",
    "  # Convert back to uint if needed\n",
    "  if (I.dtype == np.uint8):\n",
    "    Iout = (255 * Iout).clip(0, 255).astype(np.uint8)\n",
    "\n",
    "  return Iout"
   ]
  },
  {
   "cell_type": "markdown",
   "metadata": {},
   "source": [
    "Let's run this filter and check the results."
   ]
  },
  {
   "cell_type": "markdown",
   "metadata": {},
   "source": [
    "---\n",
    "> ***Self-work***\n",
    ">\n",
    "> Run the rank filter for $min$ and $max$ parameter values with all noise types.\n",
    "---"
   ]
  },
  {
   "cell_type": "markdown",
   "metadata": {},
   "source": [
    "Run the $min$ rank filter."
   ]
  },
  {
   "cell_type": "code",
   "execution_count": null,
   "metadata": {},
   "outputs": [],
   "source": [
    "Irank_min = []\n",
    "# TODO Place your solution here\n",
    "for img in Inoise:\n",
    "  pass"
   ]
  },
  {
   "cell_type": "markdown",
   "metadata": {},
   "source": [
    "Run the $max$ rank filter."
   ]
  },
  {
   "cell_type": "code",
   "execution_count": null,
   "metadata": {},
   "outputs": [],
   "source": [
    "Irank_max = []\n",
    "# TODO Place your solution here\n"
   ]
  },
  {
   "cell_type": "markdown",
   "metadata": {},
   "source": [
    "### 3.4 Adaptive median filter\n",
    "\n",
    "In this filter modification, a sliding window of size $s\\times s$ adaptively increases depending on the filtering result. Let us denote by $z_{min}$, $z_{max}$, $z_{med}$ minimum, maximum and median values of intensities in the window, $z_{i,j}$ is the pixel intensity value with coordinates $(i,j)$, $s_{max}$ is the maximum allowable window size. The adaptive median filtering algorithm consists of the following steps:\n",
    "\n",
    "1. Calculating values $z_{min}$, $z_{max}$, $z_{med}$, $A_1=z_{med}-z_{min}$, $A_2=z_{med}-z_{max}$ of the pixel $(i,j)$ in the given window. \n",
    "\t1. If $A_1>0$ and $A_2<0$, go to step 2. Otherwise, increase the window size.\n",
    "\t2. If the current window size is $s\\leqslant s_{max}$, repeat step 1. \n",
    "\t3. Otherwise, the filtering result is $z_{i,j}$.\n",
    "2. Calculating values $B_1=z_{i,j}-z_{min}$, $B_2=z_{i,j}-z_{max}$.\n",
    "\t1. If $B_1>0$ and $B_2<0$, the filtering result is $z_{i,j}$. \n",
    "\t2. Otherwise, the filtering result is $z_{med}$.\n",
    "3. Change coordinates $(i,j)$.\n",
    "\t1. If the image limit is not reached, go to step 1. \n",
    "\t2. Otherwise, the filtering is over.\n",
    "\n",
    "The main idea is to increase the window size until the algorithm finds a median value that is not impulse noise, or until it reaches the maximum window size. In the latter case, the algorithm will return the value $z_{i,j}$.\n"
   ]
  },
  {
   "cell_type": "markdown",
   "metadata": {},
   "source": [
    "---\n",
    "> ***Self-work*** *(Optional)* (1 point)\n",
    ">\n",
    "> *Implement the adaptive median filter and run it with different noise types.* \n",
    "---"
   ]
  },
  {
   "cell_type": "code",
   "execution_count": null,
   "metadata": {},
   "outputs": [],
   "source": [
    "## Adaptive median filter\n",
    "## @param[in] I An image to filter\n",
    "## @param[in] max_kernel_size The maximum filter kernel size\n",
    "## @return The filtered image\n",
    "def AdaptiveMedianFilter(I, max_kernel_size):\n",
    "  Iout = np.zeros_like(I)\n",
    "  pass\n",
    "  # TODO Place your solution here\n",
    "  \n",
    "  return Iout\n"
   ]
  },
  {
   "cell_type": "markdown",
   "metadata": {},
   "source": [
    "Now run the adaptive median filter for all noise types. Compare the results."
   ]
  },
  {
   "cell_type": "code",
   "execution_count": null,
   "metadata": {},
   "outputs": [],
   "source": [
    "Iadaptive_med = []\n",
    "for img in Inoise:\n",
    "  Iadaptive_med.append((img[0], AdaptiveMedianFilter(img[1], 9)))\n",
    "ShowImages(Iadaptive_med, 0)"
   ]
  },
  {
   "cell_type": "markdown",
   "metadata": {},
   "source": [
    "### 3.5 Wiener filter\n",
    "\n",
    "Weiner filter uses Wiener's pixel-adaptive method based on statistics estimated from the local neighborhood of the each pixel.\n",
    "\n",
    "$$\\mu=\\dfrac{1}{n\\cdot m}  \\sum_{i=0}^{m}\\sum_{j=0}^{n} I(i,j)$$\n",
    "\n",
    "$$\\sigma^2=\\dfrac{1}{n\\cdot m}  \\sum_{i=0}^{m}\\sum_{j=0}^{n} I^2(i,j)-\\mu^2$$\n",
    "\n",
    "$$I_{new}(x,y)=\\mu+\\dfrac{\\sigma^2-v^2}{\\sigma^2}\\left(I(x,y)-\\mu\\right)$$\n",
    "\n",
    "Where $\\mu$ is the average in the neighborhood, $\\sigma^2$ is the variance, and $v^2$ is the noise variance."
   ]
  },
  {
   "cell_type": "markdown",
   "metadata": {},
   "source": [
    "OpenCV does not provide an implementation for this filter, but it can be easily implemented."
   ]
  },
  {
   "cell_type": "code",
   "execution_count": null,
   "metadata": {},
   "outputs": [],
   "source": [
    "## The Weiner filter\n",
    "## @param[in] img_noisy An image to filter\n",
    "## @param[in] kernel Filter kernel\n",
    "def WeinerFilter(I, kernel):\n",
    "  rows, cols = I.shape[0:2]\n",
    "\n",
    "  # Convert to float32\n",
    "  if I.dtype == np.uint8:\n",
    "    Iout = I.astype(np.float32) / 255\n",
    "  else:\n",
    "    Iout = np.copy(I)\n",
    "\n",
    "  kernel_size = kernel.shape\n",
    "\n",
    "  # Convert to float and make image with border\n",
    "  if I.dtype == np.uint8:\n",
    "    Icopy = I.astype(np.float32) / 255\n",
    "  else:\n",
    "    Icopy = I\n",
    "  Icopy = cv.copyMakeBorder(Icopy, \n",
    "                            (kernel_size[0] - 1) // 2, kernel_size[0] // 2, \n",
    "                            (kernel_size[1] - 1) // 2, kernel_size[1] // 2, \n",
    "                            cv.BORDER_REPLICATE)\n",
    "\n",
    "  # Split into layers\n",
    "  bgr_planes = cv.split(Icopy)\n",
    "  bgr_planes_2 = []\n",
    "\n",
    "  kernel_power = np.power(kernel, 2)\n",
    "\n",
    "  # For all layers\n",
    "  for plane in bgr_planes:\n",
    "    # Calculate temporary matrices for I ** 2\n",
    "    plane_power = np.power(plane, 2)\n",
    "    \n",
    "    m = np.zeros(I.shape[0:2], np.float32)\n",
    "    q = np.zeros(I.shape[0:2], np.float32)\n",
    "    \n",
    "    # Calculate variance values\n",
    "    for i in range(kernel_size[0]):\n",
    "      for j in range(kernel_size[1]):\n",
    "        m = m + kernel[i, j] * plane[i:i + rows, j:j + cols]\n",
    "        q = q + kernel_power[i, j] * plane_power[i:i + rows, j:j + cols]\n",
    "    m = m / np.sum(kernel)\n",
    "    q = q / np.sum(kernel)\n",
    "    q = q - m * m\n",
    "    \n",
    "    # Calculate noise as an average variance\n",
    "    v = np.sum(q) / I.size\n",
    "    \n",
    "    # Do filter\n",
    "    plane_2 = plane[(kernel_size[0] - 1) // 2:(kernel_size[0] - 1) // 2 + rows, \n",
    "      (kernel_size[1] - 1) // 2:(kernel_size[1] - 1) // 2 + cols]\n",
    "    plane_2 = np.where(q < v, m, (plane_2 - m) * (1 - v / q) + m)\n",
    "    bgr_planes_2.append(plane_2)\n",
    "\n",
    "  # Merge image back  \n",
    "  Iout = cv.merge(bgr_planes_2)\n",
    "\n",
    "  # Convert back to uint if needed\n",
    "  if (I.dtype == np.uint8):\n",
    "    Iout = (255 * Iout).clip(0, 255).astype(np.uint8)\n",
    "\n",
    "  return Iout"
   ]
  },
  {
   "cell_type": "markdown",
   "metadata": {},
   "source": [
    "---\n",
    "> ***Self-work***\n",
    ">\n",
    "> Run the Weiner filter with all of our noisy images. Use the $5 \\times 5$ kernel filled with $1$.\n",
    "---"
   ]
  },
  {
   "cell_type": "code",
   "execution_count": null,
   "metadata": {},
   "outputs": [],
   "source": [
    "Iweiner = []\n",
    "# TODO Place your solution here\n"
   ]
  },
  {
   "cell_type": "markdown",
   "metadata": {},
   "source": [
    "## Task 4. High-pass filtering\n",
    "\n",
    "*Select source image. Detect edges with Roberts, Prewitt, Sobel, Laplace filters, Canny algorithm.*"
   ]
  },
  {
   "cell_type": "markdown",
   "metadata": {},
   "source": [
    "High-pass spatial filters enhance high-pass components (areas of strong intensity variation) and attenuate low-pass components of the image. They are used to highlight intensity differences and define edges (contours) in images. As a result of applying high-pass filters, the image is sharpened.\n",
    "\n",
    "| ![High-pass filtering](images/high-pass.png \"High-pass Filter\") | \n",
    "|:--:| \n",
    "| *Intensity function and its first derivative, the maximum of the derivative corresponds to the edge* |\n",
    "\n",
    "High-pass filters approximate the computation of directional derivatives, while the increment of the argument $\\Delta x$ is taken equal to 1 or 2. The main distinctive features are:\n",
    "\n",
    "- filter mask coefficients can take negative values;\n",
    "- the sum of all coefficients is zero."
   ]
  },
  {
   "cell_type": "markdown",
   "metadata": {},
   "source": [
    "### 4.1 Roberts filter\n",
    "\n",
    "The Roberts filter works with the minimum dimensionality mask allowed for the derivative calculation $2 \\times 2$, therefore it is fast and quite efficient. Possible options for masks for finding the gradient along the axes $Ox$ and $Oy$:\n",
    "\n",
    "$$\n",
    "\tG_x = \n",
    "\t\\begin{bmatrix}\n",
    "\t\t1 & -1 \\\\\n",
    "\t\t0 & 0\n",
    "\t\\end{bmatrix},\n",
    "\tG_y =\n",
    "\t\\begin{bmatrix}\n",
    "\t\t1 & 0 \\\\\n",
    "\t\t-1 & 0\n",
    "\t\\end{bmatrix},\n",
    "$$\n",
    "\n",
    "or\n",
    "\n",
    "$$\n",
    "\tG_x = \n",
    "\t\\begin{bmatrix}\n",
    "\t\t1 & 0 \\\\\n",
    "\t\t0 & -1\n",
    "\t\\end{bmatrix},\n",
    "\tG_y =\n",
    "\t\\begin{bmatrix}\n",
    "\t\t0 & 1 \\\\\n",
    "\t\t-1 & 0\n",
    "\t\\end{bmatrix}.\n",
    "$$\n",
    "\n",
    "As a result of applying the Roberts differential operator, we obtain an estimate of the gradient in the directions $G_x$ and $G_y$. The all edge detectors gradient modulus can be calculated by the formula $G=\\sqrt{G_x^2+G_y^2}=|G_x|+|G_y|$, and gradient direction by the formula $\\arctan{ \\left(\\dfrac{G_y}{G_x}\\right) }$. \n",
    "\n"
   ]
  },
  {
   "cell_type": "markdown",
   "metadata": {},
   "source": [
    "In OpenCV it is implemented by calling `cv2.filter2D()` function with two matrices $G_x$ and $G_y$ and then calculating their square mean by `cv2.magnitude()` function."
   ]
  },
  {
   "cell_type": "code",
   "execution_count": null,
   "metadata": {},
   "outputs": [],
   "source": [
    "## The Roberts filter\n",
    "## @param[in] I An image to filter\n",
    "## @return The filtered image\n",
    "def RobertsFilter(I):\n",
    "  # Convert to float\n",
    "  if I.dtype == np.uint8:\n",
    "    Iout = I.astype(np.float32) / 255\n",
    "  else:\n",
    "    Iout = np.copy(I)\n",
    "\n",
    "  # Define kernels for X and Y\n",
    "  kernel_x = np.array([[1, -1], [ 0, 0]])\n",
    "  kernel_y = np.array([[1,  0], [-1, 0]])\n",
    "\n",
    "  # Perform convolution\n",
    "  Ix = cv.filter2D(Iout, -1, kernel_x)\n",
    "  Iy = cv.filter2D(Iout, -1, kernel_y)\n",
    "  Iout = cv.magnitude(Ix, Iy)\n",
    "\n",
    "  # Convert back to uint if needed\n",
    "  if I.dtype == np.uint8:\n",
    "    Iout = (255 * Iout).clip(0, 255).astype(np.uint8)\n",
    "\n",
    "  return Iout"
   ]
  },
  {
   "cell_type": "markdown",
   "metadata": {},
   "source": [
    "As this filter is not used to filter noise, so we will run it for our initial image and check what borders are found."
   ]
  },
  {
   "cell_type": "code",
   "execution_count": null,
   "metadata": {},
   "outputs": [],
   "source": [
    "Iroberts = RobertsFilter(I)\n",
    "ShowImages([(\"Source image\", I), \n",
    "            (\"Roberts filter\", Iroberts)], 2)"
   ]
  },
  {
   "cell_type": "markdown",
   "metadata": {},
   "source": [
    "### 4.2 Prewitt Filter\n",
    "\n",
    "This approach uses two orthogonal masks of size $3\\times 3$, allowing you to more accurately calculate the derivatives along the axes $Ox$ and $Oy$:\n",
    "\n",
    "$$\n",
    "\tG_x = \n",
    "\t\\begin{bmatrix}\n",
    "\t\t-1 & 0 & 1 \\\\\n",
    "\t\t-1 & 0 & 1 \\\\\n",
    "\t\t-1 & 0 & 1\n",
    "\t\\end{bmatrix},\n",
    "\tG_y =\n",
    "\t\\begin{bmatrix}\n",
    "\t\t-1 & -1 & -1 \\\\\n",
    "\t\t0 & 0 & 0 \\\\\n",
    "\t\t1 & 1 & 1\n",
    "\t\\end{bmatrix}.\n",
    "$$"
   ]
  },
  {
   "cell_type": "markdown",
   "metadata": {},
   "source": [
    "Implementation is very similar to implementation of the Roberts filter."
   ]
  },
  {
   "cell_type": "markdown",
   "metadata": {},
   "source": [
    "---\n",
    "> ***Self-work***\n",
    ">\n",
    "> Implement the Prewitt filter and run it with the source image.\n",
    "---"
   ]
  },
  {
   "cell_type": "code",
   "execution_count": null,
   "metadata": {},
   "outputs": [],
   "source": [
    "## The Prewitt filter\n",
    "## @param[in] I An image to filter\n",
    "## @return The filtered image\n",
    "def PrewittFilter(I):\n",
    "  # Convert to float\n",
    "  # Define kernels for X and Y\n",
    "  # Perform convolution\n",
    "  # Convert back to uint if needed\n",
    "\n",
    "  Iout = np.zeros_like(I)\n",
    "  \n",
    "  # TODO Place your solution here\n",
    "\n",
    "  return Iout"
   ]
  },
  {
   "cell_type": "markdown",
   "metadata": {},
   "source": [
    "Now run it and check results."
   ]
  },
  {
   "cell_type": "code",
   "execution_count": null,
   "metadata": {},
   "outputs": [],
   "source": [
    "Iprewitt = PrewittFilter(I)\n",
    "ShowImages([(\"Source image\", I), \n",
    "            (\"Prewitt filter\", Iprewitt)], 2)"
   ]
  },
  {
   "cell_type": "markdown",
   "metadata": {},
   "source": [
    "### 4.3 Sobel filter\n",
    "\n",
    "This approach is similar to the Roberts filter, but different mask weights are used. A typical example of a Sobel filter:\n",
    "\n",
    "$$\n",
    "\tG_x = \n",
    "\t\\begin{bmatrix}\n",
    "\t\t-1 & 0 & 1 \\\\\n",
    "\t\t-2 & 0 & 2 \\\\\n",
    "\t\t-1 & 0 & 1\n",
    "\t\\end{bmatrix},\n",
    "\tG_y =\n",
    "\t\\begin{bmatrix}\n",
    "\t\t1 & 2 & 1 \\\\\n",
    "\t\t0 & 0 & 0 \\\\\n",
    "\t\t-1 & -2 & -1\n",
    "\t\\end{bmatrix}.\n",
    "$$"
   ]
  },
  {
   "cell_type": "markdown",
   "metadata": {},
   "source": [
    "This filter can be implemented manually as was described above or can use `cv2.Sobel(I, ddepth, dx, dy)` OpenCV function."
   ]
  },
  {
   "cell_type": "markdown",
   "metadata": {},
   "source": [
    "---\n",
    "> ***Self-work***\n",
    ">\n",
    "> Implement the Sobel filter **without** using OpenCV `cv2.Sobel()` function. Run this filter with the source image.\n",
    "---"
   ]
  },
  {
   "cell_type": "code",
   "execution_count": null,
   "metadata": {},
   "outputs": [],
   "source": [
    "## The Sobel filter\n",
    "## @param[in] I An image to filter\n",
    "## @return The filtered image\n",
    "def SobelFilter(I):\n",
    "  # Convert to float\n",
    "  # Define kernels for X and Y\n",
    "  # Perform convolution\n",
    "  # Convert back to uint if needed\n",
    "\n",
    "  Iout = np.zeros_like(I)\n",
    "  \n",
    "  # TODO Place your solution here\n",
    "\n",
    "  return Iout"
   ]
  },
  {
   "cell_type": "markdown",
   "metadata": {},
   "source": [
    "Now run it and check results."
   ]
  },
  {
   "cell_type": "code",
   "execution_count": null,
   "metadata": {},
   "outputs": [],
   "source": [
    "Isobel = SobelFilter(I)\n",
    "ShowImages([(\"Source image\", I), (\"Sobel filter\", Isobel)], 2)"
   ]
  },
  {
   "cell_type": "markdown",
   "metadata": {},
   "source": [
    "### 4.4 Laplace filter\n",
    "\n",
    "Laplace filter uses approximation of the second derivatives along the axes $Ox$ and $Oy$ as opposed to previous approaches using the first derivative:\n",
    "\n",
    "| ![Laplace filter](images/laplace.png \"Laplace filter\") | \n",
    "|:--:| \n",
    "| *The second derivative of the brightness function changes sign (passes through zero at the point corresponding to the edge* |\n",
    "\n",
    "$$L(I(x,y)) = \\frac{\\partial^2 I}{\\partial x^2}+\\frac{\\partial^2 I}{\\partial y^2}$$\n",
    "\n",
    "The above formula can be approximated by the following mask:\n",
    "\n",
    "$$\n",
    "\tw = \n",
    "\t\\begin{bmatrix}\n",
    "\t\t0 & -1 & 0 \\\\\n",
    "\t\t-1 & 4 & -1 \\\\\n",
    "\t\t0 & -1 & 0\n",
    "\t\\end{bmatrix}\n",
    "$$"
   ]
  },
  {
   "cell_type": "markdown",
   "metadata": {},
   "source": [
    "Let's implement this filter according to a given forumla. It should be noted that this filter gives us the gradient, in other words, it can result in the negative values. For display purposes we will use the absolute value of the Laplace filter result (by applying `np.abs()` to the floating point value result before converting back to `uint8`). However in real cases this filter result should be used as is in floating point values for the further image processing steps.\n",
    "\n",
    "There is the `cv2.Laplacian()` OpenCV function, however it **doesn't implement the Laplace filter**, *instead it uses the variation of the Sobel filter* along two axis with calculation of their magnitude. So it can't be used here."
   ]
  },
  {
   "cell_type": "markdown",
   "metadata": {},
   "source": [
    "---\n",
    "> **Self-work**\n",
    ">\n",
    "> Implement the Laplace filter **without** using OpenCV `cv2.Laplacian()` function. Don't forget to apply `np.abs()` to the result before converting it to $[0, 255]$ range. Run the Laplace filter implementation with the source image.\n",
    "---"
   ]
  },
  {
   "cell_type": "code",
   "execution_count": null,
   "metadata": {},
   "outputs": [],
   "source": [
    "def LaplaceFilter(I):\n",
    "  # Convert to float\n",
    "  # Define kernel\n",
    "  # Perform convolution\n",
    "  # Convert back to uint if needed\n",
    "\n",
    "  Iout = np.zeros_like(I)\n",
    "  \n",
    "  # TODO Place your solution here\n",
    "\n",
    "  return Iout"
   ]
  },
  {
   "cell_type": "markdown",
   "metadata": {},
   "source": [
    "Now let's run it."
   ]
  },
  {
   "cell_type": "code",
   "execution_count": null,
   "metadata": {},
   "outputs": [],
   "source": [
    "Ilaplace = LaplaceFilter(I)\n",
    "ShowImages([(\"Source image\", I), (\"Laplace filter\", Ilaplace)], 2)"
   ]
  },
  {
   "cell_type": "markdown",
   "metadata": {},
   "source": [
    "### 4.5 Canny algorithm\n",
    "\n",
    "One of the most widespread and efficient algorithms for extracting edges in an image is *Canny algorithm*. This algorithm allows not only to define edge pixels, but also connected boundary lines. The algorithm consists of the following steps:\n",
    "\n",
    "1. Elimination of small details by smoothing the original image using a Gaussian filter.\n",
    "2. Using the Sobel differential operator to determine the values of the all image pixels gradient modulus, and the calculation result is rounded by steps $45^{\\circ}$.\n",
    "3. Analysis of the gradient modules values of the pixels located orthogonally to the investigated one. If the gradient modulus value of the investigated pixel is greater than orthogonal neighboring pixels, then it is *edge*, otherwise it is *non-maximum*.\n",
    "4. Performing double threshold filtering of edge pixels selected in the previous step:\n",
    " - If the gradient modulus value greater the threshold $t_2$, then the edge presence in a pixel is valid.\n",
    " - If the gradient modulus value lower the threshold $t_1$, then the pixel is definitely not edge.\n",
    " - If the gradient modulus value in a range of $[t_1, t_2]$, then such a pixel is considered as $\\textit {ambiguous}$.\n",
    "5. Suppresses all ambiguous pixels not associated with valid pixels by 8-connectivity."
   ]
  },
  {
   "cell_type": "markdown",
   "metadata": {},
   "source": [
    "In OpenCV the Canny algorithm can be executed using `cv2.Canny(I, t1, t2)` function. `t1` and `t2` parameters define thresholding step thresholds."
   ]
  },
  {
   "cell_type": "code",
   "execution_count": null,
   "metadata": {},
   "outputs": [],
   "source": [
    "Icanny = cv.Canny(I, 50, 220)\n",
    "ShowImages([(\"Source image\", I), \n",
    "            (\"Canny algorithm\", Icanny)], 2)"
   ]
  },
  {
   "cell_type": "markdown",
   "metadata": {},
   "source": [
    "---\n",
    "> **Self-work**\n",
    ">\n",
    "> Run the Canny algorithm for your image.\n",
    "---"
   ]
  },
  {
   "cell_type": "code",
   "execution_count": null,
   "metadata": {},
   "outputs": [],
   "source": [
    "# TODO Place your solution for optional task here\n"
   ]
  },
  {
   "cell_type": "markdown",
   "metadata": {},
   "source": [
    "### 4.6 High-pass filters summary\n",
    "\n",
    "Let's check all high-pass filter results side-by-side."
   ]
  },
  {
   "cell_type": "code",
   "execution_count": null,
   "metadata": {},
   "outputs": [],
   "source": [
    "ShowImages([(\"Source image\", I), \n",
    "            (\"Roberts filter\", Iroberts), \n",
    "            (\"Prewitt filter\", Iprewitt), \n",
    "            (\"Sobel filter\", Isobel), \n",
    "            (\"Laplace filter\", Ilaplace), \n",
    "            (\"Canny algorithm\", Icanny)], 3)"
   ]
  },
  {
   "cell_type": "markdown",
   "metadata": {},
   "source": [
    "---\n",
    "> ***Self-work***\n",
    ">\n",
    "> *Answer questions and concdlude your work results.*\n",
    "---"
   ]
  },
  {
   "cell_type": "markdown",
   "metadata": {},
   "source": [
    " ## Questions\n",
    "\n",
    "Please answer the following questions:\n",
    "\n",
    " - What are the main disadvantages of adaptive image filtering methods?\n",
    " > Put your answer here\n",
    " \n",
    " - Which value of the $Q$ parameter will make the counterharmonic filter to work work as an arithmetic mean filter, and which value will make it a harmonic one?\n",
    " > Put your answer here\n",
    " \n",
    " - What operators can be used to detect edges in the image?\n",
    " > Put your answer here\n",
    " \n",
    " - Why, as a rule, is low-pass filtering performed at the first step of edge detection?\n",
    " > Put your answer here"
   ]
  },
  {
   "cell_type": "markdown",
   "metadata": {},
   "source": [
    "## Conclusion\n",
    "\n",
    "What have you learned with this task? Don't forget to conclude it.\n",
    " > Put your conclusion here\n"
   ]
  }
 ],
 "metadata": {
  "kernelspec": {
   "display_name": "Python 3",
   "language": "python",
   "name": "python3"
  },
  "language_info": {
   "codemirror_mode": {
    "name": "ipython",
    "version": 3
   },
   "file_extension": ".py",
   "mimetype": "text/x-python",
   "name": "python",
   "nbconvert_exporter": "python",
   "pygments_lexer": "ipython3",
   "version": "3.8.19"
  }
 },
 "nbformat": 4,
 "nbformat_minor": 2
}
